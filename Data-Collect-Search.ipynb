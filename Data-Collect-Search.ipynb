{
 "cells": [
  {
   "cell_type": "code",
   "execution_count": 6,
   "metadata": {},
   "outputs": [],
   "source": [
    "import pandas as pd\n",
    "import numpy as np\n",
    "import time\n",
    "import re\n",
    "import json\n",
    "import requests as rq # http requests\n",
    "import bs4 as bs4 # beautiful soup for parsing"
   ]
  },
  {
   "cell_type": "code",
   "execution_count": 3,
   "metadata": {},
   "outputs": [],
   "source": [
    "queries = ['machine+learning','kaggle','data+science'] ## Search Queries\n",
    "url = 'https://www.youtube.com/results?search_query={query}&sp=CAI%253D&p={page}'\n",
    "## sp = sort by upload data (top = most recent)\n",
    "## p = pagination"
   ]
  },
  {
   "cell_type": "markdown",
   "metadata": {},
   "source": [
    "# 1.0 - Collecting Data"
   ]
  },
  {
   "cell_type": "code",
   "execution_count": null,
   "metadata": {},
   "outputs": [],
   "source": [
    "for query in queries:\n",
    "    for page in range(1,101):\n",
    "        urll = url.format(query=query,page=page)\n",
    "        print(urll)\n",
    "        response = rq.get(urll)\n",
    "        \n",
    "        with open(\"./raw_data/{}_{}.html\".format(query,page),'w+') as output:\n",
    "            output.write(response.text)\n",
    "        time.sleep(2)"
   ]
  },
  {
   "cell_type": "markdown",
   "metadata": {},
   "source": [
    "# 2.0 - Raw Data Processing"
   ]
  },
  {
   "cell_type": "code",
   "execution_count": 7,
   "metadata": {},
   "outputs": [],
   "source": [
    "for query in queries:\n",
    "    for page in range(1,101):\n",
    "        with open('./raw_data/{}_{}.html'.format(query,page),'r+') as inp:\n",
    "            page_html = inp.read()\n",
    "            parsed = bs4.BeautifulSoup(page_html)\n",
    "            tags = parsed.findAll('a')\n",
    "            \n",
    "            for e in tags:\n",
    "                if e.has_attr(\"aria-describedby\"):\n",
    "                    link = e['href']\n",
    "                    title = e['title']\n",
    "                    \n",
    "                    with open('parsed_videos.json','a+') as output:\n",
    "                        data = {'link':link,'title':title,'query':query}\n",
    "                        output.write('{}\\n'.format(json.dumps(data)))"
   ]
  },
  {
   "cell_type": "code",
   "execution_count": 8,
   "metadata": {},
   "outputs": [],
   "source": [
    "## Checking Data\n",
    "df = pd.read_json('./parsed_videos.json', lines=True)"
   ]
  },
  {
   "cell_type": "code",
   "execution_count": 9,
   "metadata": {},
   "outputs": [
    {
     "data": {
      "text/html": [
       "<div>\n",
       "<style scoped>\n",
       "    .dataframe tbody tr th:only-of-type {\n",
       "        vertical-align: middle;\n",
       "    }\n",
       "\n",
       "    .dataframe tbody tr th {\n",
       "        vertical-align: top;\n",
       "    }\n",
       "\n",
       "    .dataframe thead th {\n",
       "        text-align: right;\n",
       "    }\n",
       "</style>\n",
       "<table border=\"1\" class=\"dataframe\">\n",
       "  <thead>\n",
       "    <tr style=\"text-align: right;\">\n",
       "      <th></th>\n",
       "      <th>link</th>\n",
       "      <th>title</th>\n",
       "      <th>query</th>\n",
       "    </tr>\n",
       "  </thead>\n",
       "  <tbody>\n",
       "    <tr>\n",
       "      <td>0</td>\n",
       "      <td>/watch?v=0gekz5jW-hg</td>\n",
       "      <td>DEMO - Get Started with Machine Learning at th...</td>\n",
       "      <td>machine+learning</td>\n",
       "    </tr>\n",
       "    <tr>\n",
       "      <td>1</td>\n",
       "      <td>/watch?v=LwQ804FYkjk</td>\n",
       "      <td>Discussion on Artificial Intelligence (AI), Ma...</td>\n",
       "      <td>machine+learning</td>\n",
       "    </tr>\n",
       "    <tr>\n",
       "      <td>2</td>\n",
       "      <td>/watch?v=TssHlAL-Tso</td>\n",
       "      <td>M. Deisenroth, UCL: Data-Efficient Reinforceme...</td>\n",
       "      <td>machine+learning</td>\n",
       "    </tr>\n",
       "    <tr>\n",
       "      <td>3</td>\n",
       "      <td>/watch?v=n5xsZ2QiHMA</td>\n",
       "      <td>How to minimize risks of investing in machine ...</td>\n",
       "      <td>machine+learning</td>\n",
       "    </tr>\n",
       "    <tr>\n",
       "      <td>4</td>\n",
       "      <td>/watch?v=jZmD9ZsM6lw</td>\n",
       "      <td>Panel discussion on the ethics of machine lear...</td>\n",
       "      <td>machine+learning</td>\n",
       "    </tr>\n",
       "  </tbody>\n",
       "</table>\n",
       "</div>"
      ],
      "text/plain": [
       "                   link                                              title  \\\n",
       "0  /watch?v=0gekz5jW-hg  DEMO - Get Started with Machine Learning at th...   \n",
       "1  /watch?v=LwQ804FYkjk  Discussion on Artificial Intelligence (AI), Ma...   \n",
       "2  /watch?v=TssHlAL-Tso  M. Deisenroth, UCL: Data-Efficient Reinforceme...   \n",
       "3  /watch?v=n5xsZ2QiHMA  How to minimize risks of investing in machine ...   \n",
       "4  /watch?v=jZmD9ZsM6lw  Panel discussion on the ethics of machine lear...   \n",
       "\n",
       "              query  \n",
       "0  machine+learning  \n",
       "1  machine+learning  \n",
       "2  machine+learning  \n",
       "3  machine+learning  \n",
       "4  machine+learning  "
      ]
     },
     "execution_count": 9,
     "metadata": {},
     "output_type": "execute_result"
    }
   ],
   "source": [
    "df.head()"
   ]
  },
  {
   "cell_type": "code",
   "execution_count": 15,
   "metadata": {},
   "outputs": [
    {
     "data": {
      "text/html": [
       "<div>\n",
       "<style scoped>\n",
       "    .dataframe tbody tr th:only-of-type {\n",
       "        vertical-align: middle;\n",
       "    }\n",
       "\n",
       "    .dataframe tbody tr th {\n",
       "        vertical-align: top;\n",
       "    }\n",
       "\n",
       "    .dataframe thead th {\n",
       "        text-align: right;\n",
       "    }\n",
       "</style>\n",
       "<table border=\"1\" class=\"dataframe\">\n",
       "  <thead>\n",
       "    <tr style=\"text-align: right;\">\n",
       "      <th></th>\n",
       "      <th>link</th>\n",
       "      <th>title</th>\n",
       "      <th>query</th>\n",
       "    </tr>\n",
       "  </thead>\n",
       "  <tbody>\n",
       "    <tr>\n",
       "      <td>27</td>\n",
       "      <td>/watch?v=oQk8xMP9Bgc</td>\n",
       "      <td>\"Leverage Classifiers with Machine Learning an...</td>\n",
       "      <td>machine+learning</td>\n",
       "    </tr>\n",
       "    <tr>\n",
       "      <td>117</td>\n",
       "      <td>/watch?v=5bSAipCNqXo</td>\n",
       "      <td>\"PyTorch: A Modern Library for Machine Learnin...</td>\n",
       "      <td>machine+learning</td>\n",
       "    </tr>\n",
       "    <tr>\n",
       "      <td>1477</td>\n",
       "      <td>/watch?v=bzUmK0Y07ck</td>\n",
       "      <td>\"The Joy of Functional Programming (for Data S...</td>\n",
       "      <td>data+science</td>\n",
       "    </tr>\n",
       "    <tr>\n",
       "      <td>180</td>\n",
       "      <td>/watch?v=zikdDOzOpxY</td>\n",
       "      <td>\"The Power and Limits of Deep Learning\" with Y...</td>\n",
       "      <td>machine+learning</td>\n",
       "    </tr>\n",
       "    <tr>\n",
       "      <td>1737</td>\n",
       "      <td>/watch?v=WMRksOyZI_Q</td>\n",
       "      <td>#1 Czym jest Data Science?</td>\n",
       "      <td>data+science</td>\n",
       "    </tr>\n",
       "    <tr>\n",
       "      <td>...</td>\n",
       "      <td>...</td>\n",
       "      <td>...</td>\n",
       "      <td>...</td>\n",
       "    </tr>\n",
       "    <tr>\n",
       "      <td>476</td>\n",
       "      <td>/watch?v=GDy45vT1xlA</td>\n",
       "      <td>🖥️ FINISHING MY FIRST MACHINE LEARNING GAME! (...</td>\n",
       "      <td>machine+learning</td>\n",
       "    </tr>\n",
       "    <tr>\n",
       "      <td>466</td>\n",
       "      <td>/watch?v=I74ymkoNTnw</td>\n",
       "      <td>🖥️ HOW TO GET STARTED WITH MACHINE LEARNING!</td>\n",
       "      <td>machine+learning</td>\n",
       "    </tr>\n",
       "    <tr>\n",
       "      <td>475</td>\n",
       "      <td>/watch?v=g-HePO2bcTY</td>\n",
       "      <td>🖥️ POSTMORTEM FOR MY FIRST MACHINE LEARNING GA...</td>\n",
       "      <td>machine+learning</td>\n",
       "    </tr>\n",
       "    <tr>\n",
       "      <td>485</td>\n",
       "      <td>/watch?v=OpodKCR6P-M</td>\n",
       "      <td>🖥️ TRAINING MY FIRST MACHINE LEARNING GAME! (2/4)</td>\n",
       "      <td>machine+learning</td>\n",
       "    </tr>\n",
       "    <tr>\n",
       "      <td>486</td>\n",
       "      <td>/watch?v=ZX2Hyu5WoFg</td>\n",
       "      <td>🖥️ WRITING MY FIRST MACHINE LEARNING GAME! (1/4)</td>\n",
       "      <td>machine+learning</td>\n",
       "    </tr>\n",
       "  </tbody>\n",
       "</table>\n",
       "<p>1812 rows × 3 columns</p>\n",
       "</div>"
      ],
      "text/plain": [
       "                      link                                              title  \\\n",
       "27    /watch?v=oQk8xMP9Bgc  \"Leverage Classifiers with Machine Learning an...   \n",
       "117   /watch?v=5bSAipCNqXo  \"PyTorch: A Modern Library for Machine Learnin...   \n",
       "1477  /watch?v=bzUmK0Y07ck  \"The Joy of Functional Programming (for Data S...   \n",
       "180   /watch?v=zikdDOzOpxY  \"The Power and Limits of Deep Learning\" with Y...   \n",
       "1737  /watch?v=WMRksOyZI_Q                         #1 Czym jest Data Science?   \n",
       "...                    ...                                                ...   \n",
       "476   /watch?v=GDy45vT1xlA  🖥️ FINISHING MY FIRST MACHINE LEARNING GAME! (...   \n",
       "466   /watch?v=I74ymkoNTnw       🖥️ HOW TO GET STARTED WITH MACHINE LEARNING!   \n",
       "475   /watch?v=g-HePO2bcTY  🖥️ POSTMORTEM FOR MY FIRST MACHINE LEARNING GA...   \n",
       "485   /watch?v=OpodKCR6P-M  🖥️ TRAINING MY FIRST MACHINE LEARNING GAME! (2/4)   \n",
       "486   /watch?v=ZX2Hyu5WoFg   🖥️ WRITING MY FIRST MACHINE LEARNING GAME! (1/4)   \n",
       "\n",
       "                 query  \n",
       "27    machine+learning  \n",
       "117   machine+learning  \n",
       "1477      data+science  \n",
       "180   machine+learning  \n",
       "1737      data+science  \n",
       "...                ...  \n",
       "476   machine+learning  \n",
       "466   machine+learning  \n",
       "475   machine+learning  \n",
       "485   machine+learning  \n",
       "486   machine+learning  \n",
       "\n",
       "[1812 rows x 3 columns]"
      ]
     },
     "execution_count": 15,
     "metadata": {},
     "output_type": "execute_result"
    }
   ],
   "source": [
    "df.sort_values(by='title')"
   ]
  },
  {
   "cell_type": "code",
   "execution_count": null,
   "metadata": {},
   "outputs": [],
   "source": []
  }
 ],
 "metadata": {
  "kernelspec": {
   "display_name": "Python 3",
   "language": "python",
   "name": "python3"
  },
  "language_info": {
   "codemirror_mode": {
    "name": "ipython",
    "version": 3
   },
   "file_extension": ".py",
   "mimetype": "text/x-python",
   "name": "python",
   "nbconvert_exporter": "python",
   "pygments_lexer": "ipython3",
   "version": "3.7.4"
  }
 },
 "nbformat": 4,
 "nbformat_minor": 4
}
