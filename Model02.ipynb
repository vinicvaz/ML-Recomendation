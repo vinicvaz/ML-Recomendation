{
 "cells": [
  {
   "cell_type": "code",
   "execution_count": 1,
   "metadata": {},
   "outputs": [
    {
     "name": "stdout",
     "output_type": "stream",
     "text": [
      "Populating the interactive namespace from numpy and matplotlib\n"
     ]
    }
   ],
   "source": [
    "import pandas as pd\n",
    "import numpy as np\n",
    "import re\n",
    "import time\n",
    "import bs4 as bs4\n",
    "import json\n",
    "import glob\n",
    "import tqdm\n",
    "\n",
    "pd.set_option('max.columns',131)\n",
    "%matplotlib inline\n",
    "%pylab inline\n"
   ]
  },
  {
   "cell_type": "code",
   "execution_count": 3,
   "metadata": {},
   "outputs": [],
   "source": [
    "df = pd.read_csv('./raw_with_label_old.csv',index_col=0)\n",
    "df = df[df.y.notnull()]"
   ]
  },
  {
   "cell_type": "code",
   "execution_count": 4,
   "metadata": {},
   "outputs": [
    {
     "data": {
      "text/plain": [
       "(498, 16)"
      ]
     },
     "execution_count": 4,
     "metadata": {},
     "output_type": "execute_result"
    }
   ],
   "source": [
    "df.shape"
   ]
  },
  {
   "cell_type": "code",
   "execution_count": 5,
   "metadata": {},
   "outputs": [],
   "source": [
    "from sklearn.linear_model import LogisticRegression\n",
    "from sklearn.ensemble import RandomForestClassifier"
   ]
  },
  {
   "cell_type": "markdown",
   "metadata": {},
   "source": [
    "# 1.0 - Data Cleaning"
   ]
  },
  {
   "cell_type": "code",
   "execution_count": 7,
   "metadata": {},
   "outputs": [],
   "source": [
    "## Create DF to store clean values\n",
    "df2 = pd.DataFrame(index=df.index)"
   ]
  },
  {
   "cell_type": "code",
   "execution_count": 8,
   "metadata": {},
   "outputs": [],
   "source": [
    "df2['title'] = df['watch-title']"
   ]
  },
  {
   "cell_type": "code",
   "execution_count": 9,
   "metadata": {},
   "outputs": [],
   "source": [
    "## Clean Watch Time to DATE\n",
    "clean_date = df['watch-time-text'].str.extract(r'(\\d+) de ([a-z]+)\\. de (\\d+)')\n",
    "clean_date[0] = clean_date[0].map(lambda x: \"0\"+x[0] if len(x)==1 else x)\n",
    "\n",
    "month_map = {\n",
    "    'jan':'Jan',\n",
    "    'fev':'Feb',\n",
    "    'mar':'Mar',\n",
    "    'abr':'Apr',\n",
    "    'mai':'May',\n",
    "    'jun':'Jun',\n",
    "    'jul':'Jul',\n",
    "    'ago':'Aug',\n",
    "    'set':'Sep',\n",
    "    'out':'Oct',\n",
    "    'nov':'Nov',\n",
    "    'dez':'Dec'\n",
    "}\n",
    "clean_date[1] = clean_date[1].map(month_map)\n",
    "clean_date = clean_date.apply(lambda x: ' '.join(x), axis=1)\n",
    "df2['date'] = pd.to_datetime(clean_date, format=\"%d %b %Y\")"
   ]
  },
  {
   "cell_type": "code",
   "execution_count": 10,
   "metadata": {},
   "outputs": [],
   "source": [
    "## Clean View Count\n",
    "views = df['watch-view-count'].str.extract(r'(\\d+\\.?\\d*)', expand=False).str.replace('.','').fillna(0).astype(int)\n",
    "df2['views'] = views"
   ]
  },
  {
   "cell_type": "markdown",
   "metadata": {},
   "source": [
    "# 2.0 - Features"
   ]
  },
  {
   "cell_type": "code",
   "execution_count": 11,
   "metadata": {},
   "outputs": [],
   "source": [
    "features = pd.DataFrame(index=df2.index)\n",
    "y = df['y'].copy()"
   ]
  },
  {
   "cell_type": "code",
   "execution_count": 12,
   "metadata": {},
   "outputs": [],
   "source": [
    "features['time_since_pub'] = (pd.to_datetime('2019-12-03') - df2['date'])/np.timedelta64(1,'D')\n",
    "features['views'] = df2.views\n",
    "features['views_per_day'] = features.views/features.time_since_pub\n",
    "features.drop(['time_since_pub'],axis=1,inplace=True)"
   ]
  },
  {
   "cell_type": "code",
   "execution_count": 16,
   "metadata": {},
   "outputs": [],
   "source": [
    "mask_train = df2['date'] < \"2019-04-01\"\n",
    "mask_val = df2['date'] >= \"2019-04-01\"\n",
    "\n",
    "Xtrain, Xval = features[mask_train], features[mask_val]\n",
    "ytrain, yval = y[mask_train], y[mask_val]"
   ]
  },
  {
   "cell_type": "code",
   "execution_count": 17,
   "metadata": {},
   "outputs": [
    {
     "data": {
      "text/plain": [
       "((228, 2), (270, 2), (228,), (270,))"
      ]
     },
     "execution_count": 17,
     "metadata": {},
     "output_type": "execute_result"
    }
   ],
   "source": [
    "Xtrain.shape, Xval.shape, ytrain.shape, yval.shape"
   ]
  },
  {
   "cell_type": "code",
   "execution_count": 21,
   "metadata": {},
   "outputs": [],
   "source": [
    "from sklearn.feature_extraction.text import TfidfVectorizer"
   ]
  },
  {
   "cell_type": "code",
   "execution_count": 22,
   "metadata": {},
   "outputs": [],
   "source": [
    "title_train = df2[mask_train].title\n",
    "title_val = df2[mask_val].title\n",
    "\n",
    "title_vec = TfidfVectorizer(min_df=2)\n",
    "title_bow_train = title_vec.fit_transform(title_train)\n",
    "title_bow_val = title_vec.transform(title_val)"
   ]
  },
  {
   "cell_type": "code",
   "execution_count": 23,
   "metadata": {},
   "outputs": [
    {
     "data": {
      "text/plain": [
       "(228, 193)"
      ]
     },
     "execution_count": 23,
     "metadata": {},
     "output_type": "execute_result"
    }
   ],
   "source": [
    "title_bow_train.shape"
   ]
  },
  {
   "cell_type": "code",
   "execution_count": 24,
   "metadata": {},
   "outputs": [],
   "source": [
    "from scipy.sparse import hstack, vstack"
   ]
  },
  {
   "cell_type": "code",
   "execution_count": 25,
   "metadata": {},
   "outputs": [],
   "source": [
    "Xtrain_wtitle = hstack([Xtrain,title_bow_train])\n",
    "Xval_wtitle = hstack([Xval,title_bow_val])"
   ]
  },
  {
   "cell_type": "code",
   "execution_count": 27,
   "metadata": {},
   "outputs": [
    {
     "data": {
      "text/plain": [
       "((228, 195), (270, 195))"
      ]
     },
     "execution_count": 27,
     "metadata": {},
     "output_type": "execute_result"
    }
   ],
   "source": [
    "Xtrain_wtitle.shape, Xval_wtitle.shape"
   ]
  },
  {
   "cell_type": "code",
   "execution_count": 34,
   "metadata": {},
   "outputs": [
    {
     "data": {
      "text/plain": [
       "RandomForestClassifier(bootstrap=True, class_weight='balanced',\n",
       "                       criterion='gini', max_depth=None, max_features='auto',\n",
       "                       max_leaf_nodes=None, min_impurity_decrease=0.0,\n",
       "                       min_impurity_split=None, min_samples_leaf=1,\n",
       "                       min_samples_split=2, min_weight_fraction_leaf=0.0,\n",
       "                       n_estimators=1000, n_jobs=None, oob_score=False,\n",
       "                       random_state=0, verbose=0, warm_start=False)"
      ]
     },
     "execution_count": 34,
     "metadata": {},
     "output_type": "execute_result"
    }
   ],
   "source": [
    "mdl = RandomForestClassifier(n_estimators=1000,random_state=0, class_weight='balanced')\n",
    "mdl.fit(Xtrain_wtitle,ytrain)"
   ]
  },
  {
   "cell_type": "code",
   "execution_count": 36,
   "metadata": {},
   "outputs": [],
   "source": [
    "p = mdl.predict_proba(Xval_wtitle)[:,1]"
   ]
  },
  {
   "cell_type": "code",
   "execution_count": 37,
   "metadata": {},
   "outputs": [],
   "source": [
    "from sklearn.metrics import roc_auc_score, average_precision_score"
   ]
  },
  {
   "cell_type": "code",
   "execution_count": 38,
   "metadata": {},
   "outputs": [
    {
     "data": {
      "text/plain": [
       "0.1918043901336543"
      ]
     },
     "execution_count": 38,
     "metadata": {},
     "output_type": "execute_result"
    }
   ],
   "source": [
    "average_precision_score(yval, p)"
   ]
  },
  {
   "cell_type": "code",
   "execution_count": 39,
   "metadata": {},
   "outputs": [
    {
     "data": {
      "text/plain": [
       "0.5848024316109421"
      ]
     },
     "execution_count": 39,
     "metadata": {},
     "output_type": "execute_result"
    }
   ],
   "source": [
    "roc_auc_score(yval,p)"
   ]
  },
  {
   "cell_type": "markdown",
   "metadata": {},
   "source": [
    "# 3.0 - Active Learning"
   ]
  },
  {
   "cell_type": "code",
   "execution_count": 40,
   "metadata": {},
   "outputs": [
    {
     "data": {
      "text/plain": [
       "(674, 16)"
      ]
     },
     "execution_count": 40,
     "metadata": {},
     "output_type": "execute_result"
    }
   ],
   "source": [
    "df_unlabedlabed = pd.read_csv('./raw_with_label_old.csv', index_col=0)\n",
    "df_unlabed = df_unlabed[df_unlabed['y'].isnull()].dropna(how='all')\n",
    "df_unlabed.shape"
   ]
  },
  {
   "cell_type": "code",
   "execution_count": 42,
   "metadata": {},
   "outputs": [
    {
     "data": {
      "text/html": [
       "<div>\n",
       "<style scoped>\n",
       "    .dataframe tbody tr th:only-of-type {\n",
       "        vertical-align: middle;\n",
       "    }\n",
       "\n",
       "    .dataframe tbody tr th {\n",
       "        vertical-align: top;\n",
       "    }\n",
       "\n",
       "    .dataframe thead th {\n",
       "        text-align: right;\n",
       "    }\n",
       "</style>\n",
       "<table border=\"1\" class=\"dataframe\">\n",
       "  <thead>\n",
       "    <tr style=\"text-align: right;\">\n",
       "      <th></th>\n",
       "      <th>watch-title</th>\n",
       "      <th>y</th>\n",
       "      <th>watch-view-count</th>\n",
       "      <th>watch-time-text</th>\n",
       "      <th>content_watch-info-tag-list</th>\n",
       "      <th>watch7-headline</th>\n",
       "      <th>watch7-user-header</th>\n",
       "      <th>watch8-sentiment-actions</th>\n",
       "      <th>og:image</th>\n",
       "      <th>og:image:width</th>\n",
       "      <th>og:image:height</th>\n",
       "      <th>og:description</th>\n",
       "      <th>og:video:width</th>\n",
       "      <th>og:video:height</th>\n",
       "      <th>og:video:tag</th>\n",
       "      <th>channel_link_0</th>\n",
       "    </tr>\n",
       "  </thead>\n",
       "  <tbody>\n",
       "    <tr>\n",
       "      <td>501</td>\n",
       "      <td>Kaggle Mercari Price Suggestion Challenge (1 p...</td>\n",
       "      <td>NaN</td>\n",
       "      <td>2.167 visualizações</td>\n",
       "      <td>Publicado em 2 de nov. de 2018</td>\n",
       "      <td>Educação</td>\n",
       "      <td>Kaggle Mercari Price Suggestion Challenge (1 p...</td>\n",
       "      <td>ML Trainings\\n\\n\\n\\n\\n\\n\\n\\n\\n\\n\\n\\n\\n\\nCarreg...</td>\n",
       "      <td>2.167 visualizações\\n\\n\\n\\n\\n\\n\\n\\n61\\n\\nGosto...</td>\n",
       "      <td>https://i.ytimg.com/vi/QFR0IHbzA30/maxresdefau...</td>\n",
       "      <td>1280.0</td>\n",
       "      <td>720.0</td>\n",
       "      <td>Pawel Jankiewicz and Konstantin Lopuhin share ...</td>\n",
       "      <td>1280.0</td>\n",
       "      <td>720.0</td>\n",
       "      <td>price suggestion</td>\n",
       "      <td>/channel/UCeq6ZIlvC9SVsfhfKnSvM9w</td>\n",
       "    </tr>\n",
       "    <tr>\n",
       "      <td>502</td>\n",
       "      <td>OpenAI Gym and Python for Q-learning - Reinfor...</td>\n",
       "      <td>NaN</td>\n",
       "      <td>20.378 visualizações</td>\n",
       "      <td>Publicado em 14 de out. de 2018</td>\n",
       "      <td>Educação</td>\n",
       "      <td>OpenAI Gym and Python for Q-learning - Reinfor...</td>\n",
       "      <td>deeplizard\\n\\n\\n\\n\\n\\n\\n\\n\\n\\n\\n\\n\\n\\nCarregan...</td>\n",
       "      <td>20.378 visualizações\\n\\n\\n\\n\\n\\n\\n\\n397\\n\\nGos...</td>\n",
       "      <td>https://i.ytimg.com/vi/QK_PP_2KgGE/maxresdefau...</td>\n",
       "      <td>1280.0</td>\n",
       "      <td>720.0</td>\n",
       "      <td>Welcome back to this series on reinforcement l...</td>\n",
       "      <td>1280.0</td>\n",
       "      <td>720.0</td>\n",
       "      <td>experience replay</td>\n",
       "      <td>/channel/UC4UJ26WkceqONNF5S26OiVw</td>\n",
       "    </tr>\n",
       "  </tbody>\n",
       "</table>\n",
       "</div>"
      ],
      "text/plain": [
       "                                           watch-title   y  \\\n",
       "501  Kaggle Mercari Price Suggestion Challenge (1 p... NaN   \n",
       "502  OpenAI Gym and Python for Q-learning - Reinfor... NaN   \n",
       "\n",
       "         watch-view-count                  watch-time-text  \\\n",
       "501   2.167 visualizações   Publicado em 2 de nov. de 2018   \n",
       "502  20.378 visualizações  Publicado em 14 de out. de 2018   \n",
       "\n",
       "    content_watch-info-tag-list  \\\n",
       "501                    Educação   \n",
       "502                    Educação   \n",
       "\n",
       "                                       watch7-headline  \\\n",
       "501  Kaggle Mercari Price Suggestion Challenge (1 p...   \n",
       "502  OpenAI Gym and Python for Q-learning - Reinfor...   \n",
       "\n",
       "                                    watch7-user-header  \\\n",
       "501  ML Trainings\\n\\n\\n\\n\\n\\n\\n\\n\\n\\n\\n\\n\\n\\nCarreg...   \n",
       "502  deeplizard\\n\\n\\n\\n\\n\\n\\n\\n\\n\\n\\n\\n\\n\\nCarregan...   \n",
       "\n",
       "                              watch8-sentiment-actions  \\\n",
       "501  2.167 visualizações\\n\\n\\n\\n\\n\\n\\n\\n61\\n\\nGosto...   \n",
       "502  20.378 visualizações\\n\\n\\n\\n\\n\\n\\n\\n397\\n\\nGos...   \n",
       "\n",
       "                                              og:image  og:image:width  \\\n",
       "501  https://i.ytimg.com/vi/QFR0IHbzA30/maxresdefau...          1280.0   \n",
       "502  https://i.ytimg.com/vi/QK_PP_2KgGE/maxresdefau...          1280.0   \n",
       "\n",
       "     og:image:height                                     og:description  \\\n",
       "501            720.0  Pawel Jankiewicz and Konstantin Lopuhin share ...   \n",
       "502            720.0  Welcome back to this series on reinforcement l...   \n",
       "\n",
       "     og:video:width  og:video:height       og:video:tag  \\\n",
       "501          1280.0            720.0   price suggestion   \n",
       "502          1280.0            720.0  experience replay   \n",
       "\n",
       "                        channel_link_0  \n",
       "501  /channel/UCeq6ZIlvC9SVsfhfKnSvM9w  \n",
       "502  /channel/UC4UJ26WkceqONNF5S26OiVw  "
      ]
     },
     "execution_count": 42,
     "metadata": {},
     "output_type": "execute_result"
    }
   ],
   "source": [
    "df_unlabed.head(2)"
   ]
  },
  {
   "cell_type": "code",
   "execution_count": 43,
   "metadata": {},
   "outputs": [],
   "source": [
    "df_clean_u = pd.DataFrame(index=df_unlabed.index)\n",
    "df_clean_u['title'] = df_unlabed['watch-title']"
   ]
  },
  {
   "cell_type": "code",
   "execution_count": 45,
   "metadata": {},
   "outputs": [],
   "source": [
    "## Clean Watch Time to DATE\n",
    "clean_date = df_unlabed['watch-time-text'].str.extract(r'(\\d+) de ([a-z]+)\\. de (\\d+)')\n",
    "clean_date[0] = clean_date[0].map(lambda x: \"0\"+x[0] if len(x)==1 else x)\n",
    "\n",
    "month_map = {\n",
    "    'jan':'Jan',\n",
    "    'fev':'Feb',\n",
    "    'mar':'Mar',\n",
    "    'abr':'Apr',\n",
    "    'mai':'May',\n",
    "    'jun':'Jun',\n",
    "    'jul':'Jul',\n",
    "    'ago':'Aug',\n",
    "    'set':'Sep',\n",
    "    'out':'Oct',\n",
    "    'nov':'Nov',\n",
    "    'dez':'Dec'\n",
    "}\n",
    "clean_date[1] = clean_date[1].map(month_map)\n",
    "clean_date = clean_date.apply(lambda x: ' '.join(x), axis=1)\n",
    "df_clean_u['date'] = pd.to_datetime(clean_date, format=\"%d %b %Y\")"
   ]
  },
  {
   "cell_type": "code",
   "execution_count": 47,
   "metadata": {},
   "outputs": [],
   "source": [
    "## Clean View Count\n",
    "views = df_unlabed['watch-view-count'].str.extract(r'(\\d+\\.?\\d*)', expand=False).str.replace('.','').fillna(0).astype(int)\n",
    "df_clean_u['views'] = views"
   ]
  },
  {
   "cell_type": "code",
   "execution_count": 52,
   "metadata": {},
   "outputs": [],
   "source": [
    "features_u = pd.DataFrame(index=df_clean_u.index)"
   ]
  },
  {
   "cell_type": "code",
   "execution_count": 53,
   "metadata": {},
   "outputs": [],
   "source": [
    "features_u['time_since_pub'] = (pd.to_datetime('2019-12-03') - df_clean_u['date'])/np.timedelta64(1,'D')\n",
    "features_u['views'] = df_clean_u.views\n",
    "features_u['views_per_day'] = features_u.views/features_u.time_since_pub\n",
    "features_u.drop(['time_since_pub'],axis=1,inplace=True)"
   ]
  },
  {
   "cell_type": "code",
   "execution_count": 50,
   "metadata": {},
   "outputs": [],
   "source": [
    "title_u = df_clean_u['title']\n",
    "title_bow_u = title_vec.transform(title_u)"
   ]
  },
  {
   "cell_type": "code",
   "execution_count": 59,
   "metadata": {},
   "outputs": [],
   "source": [
    "Xu_wtitle = hstack([features_u,title_bow_u])"
   ]
  },
  {
   "cell_type": "code",
   "execution_count": 62,
   "metadata": {},
   "outputs": [],
   "source": [
    "pu = mdl.predict_proba(Xu_wtitle)[:,1]"
   ]
  },
  {
   "cell_type": "code",
   "execution_count": 63,
   "metadata": {},
   "outputs": [],
   "source": [
    "df_unlabed['p'] = pu"
   ]
  },
  {
   "cell_type": "code",
   "execution_count": 64,
   "metadata": {},
   "outputs": [
    {
     "data": {
      "text/html": [
       "<div>\n",
       "<style scoped>\n",
       "    .dataframe tbody tr th:only-of-type {\n",
       "        vertical-align: middle;\n",
       "    }\n",
       "\n",
       "    .dataframe tbody tr th {\n",
       "        vertical-align: top;\n",
       "    }\n",
       "\n",
       "    .dataframe thead th {\n",
       "        text-align: right;\n",
       "    }\n",
       "</style>\n",
       "<table border=\"1\" class=\"dataframe\">\n",
       "  <thead>\n",
       "    <tr style=\"text-align: right;\">\n",
       "      <th></th>\n",
       "      <th>watch-title</th>\n",
       "      <th>y</th>\n",
       "      <th>watch-view-count</th>\n",
       "      <th>watch-time-text</th>\n",
       "      <th>content_watch-info-tag-list</th>\n",
       "      <th>watch7-headline</th>\n",
       "      <th>watch7-user-header</th>\n",
       "      <th>watch8-sentiment-actions</th>\n",
       "      <th>og:image</th>\n",
       "      <th>og:image:width</th>\n",
       "      <th>og:image:height</th>\n",
       "      <th>og:description</th>\n",
       "      <th>og:video:width</th>\n",
       "      <th>og:video:height</th>\n",
       "      <th>og:video:tag</th>\n",
       "      <th>channel_link_0</th>\n",
       "      <th>p</th>\n",
       "    </tr>\n",
       "  </thead>\n",
       "  <tbody>\n",
       "    <tr>\n",
       "      <td>501</td>\n",
       "      <td>Kaggle Mercari Price Suggestion Challenge (1 p...</td>\n",
       "      <td>NaN</td>\n",
       "      <td>2.167 visualizações</td>\n",
       "      <td>Publicado em 2 de nov. de 2018</td>\n",
       "      <td>Educação</td>\n",
       "      <td>Kaggle Mercari Price Suggestion Challenge (1 p...</td>\n",
       "      <td>ML Trainings\\n\\n\\n\\n\\n\\n\\n\\n\\n\\n\\n\\n\\n\\nCarreg...</td>\n",
       "      <td>2.167 visualizações\\n\\n\\n\\n\\n\\n\\n\\n61\\n\\nGosto...</td>\n",
       "      <td>https://i.ytimg.com/vi/QFR0IHbzA30/maxresdefau...</td>\n",
       "      <td>1280.0</td>\n",
       "      <td>720.0</td>\n",
       "      <td>Pawel Jankiewicz and Konstantin Lopuhin share ...</td>\n",
       "      <td>1280.0</td>\n",
       "      <td>720.0</td>\n",
       "      <td>price suggestion</td>\n",
       "      <td>/channel/UCeq6ZIlvC9SVsfhfKnSvM9w</td>\n",
       "      <td>0.093</td>\n",
       "    </tr>\n",
       "    <tr>\n",
       "      <td>502</td>\n",
       "      <td>OpenAI Gym and Python for Q-learning - Reinfor...</td>\n",
       "      <td>NaN</td>\n",
       "      <td>20.378 visualizações</td>\n",
       "      <td>Publicado em 14 de out. de 2018</td>\n",
       "      <td>Educação</td>\n",
       "      <td>OpenAI Gym and Python for Q-learning - Reinfor...</td>\n",
       "      <td>deeplizard\\n\\n\\n\\n\\n\\n\\n\\n\\n\\n\\n\\n\\n\\nCarregan...</td>\n",
       "      <td>20.378 visualizações\\n\\n\\n\\n\\n\\n\\n\\n397\\n\\nGos...</td>\n",
       "      <td>https://i.ytimg.com/vi/QK_PP_2KgGE/maxresdefau...</td>\n",
       "      <td>1280.0</td>\n",
       "      <td>720.0</td>\n",
       "      <td>Welcome back to this series on reinforcement l...</td>\n",
       "      <td>1280.0</td>\n",
       "      <td>720.0</td>\n",
       "      <td>experience replay</td>\n",
       "      <td>/channel/UC4UJ26WkceqONNF5S26OiVw</td>\n",
       "      <td>0.037</td>\n",
       "    </tr>\n",
       "  </tbody>\n",
       "</table>\n",
       "</div>"
      ],
      "text/plain": [
       "                                           watch-title   y  \\\n",
       "501  Kaggle Mercari Price Suggestion Challenge (1 p... NaN   \n",
       "502  OpenAI Gym and Python for Q-learning - Reinfor... NaN   \n",
       "\n",
       "         watch-view-count                  watch-time-text  \\\n",
       "501   2.167 visualizações   Publicado em 2 de nov. de 2018   \n",
       "502  20.378 visualizações  Publicado em 14 de out. de 2018   \n",
       "\n",
       "    content_watch-info-tag-list  \\\n",
       "501                    Educação   \n",
       "502                    Educação   \n",
       "\n",
       "                                       watch7-headline  \\\n",
       "501  Kaggle Mercari Price Suggestion Challenge (1 p...   \n",
       "502  OpenAI Gym and Python for Q-learning - Reinfor...   \n",
       "\n",
       "                                    watch7-user-header  \\\n",
       "501  ML Trainings\\n\\n\\n\\n\\n\\n\\n\\n\\n\\n\\n\\n\\n\\nCarreg...   \n",
       "502  deeplizard\\n\\n\\n\\n\\n\\n\\n\\n\\n\\n\\n\\n\\n\\nCarregan...   \n",
       "\n",
       "                              watch8-sentiment-actions  \\\n",
       "501  2.167 visualizações\\n\\n\\n\\n\\n\\n\\n\\n61\\n\\nGosto...   \n",
       "502  20.378 visualizações\\n\\n\\n\\n\\n\\n\\n\\n397\\n\\nGos...   \n",
       "\n",
       "                                              og:image  og:image:width  \\\n",
       "501  https://i.ytimg.com/vi/QFR0IHbzA30/maxresdefau...          1280.0   \n",
       "502  https://i.ytimg.com/vi/QK_PP_2KgGE/maxresdefau...          1280.0   \n",
       "\n",
       "     og:image:height                                     og:description  \\\n",
       "501            720.0  Pawel Jankiewicz and Konstantin Lopuhin share ...   \n",
       "502            720.0  Welcome back to this series on reinforcement l...   \n",
       "\n",
       "     og:video:width  og:video:height       og:video:tag  \\\n",
       "501          1280.0            720.0   price suggestion   \n",
       "502          1280.0            720.0  experience replay   \n",
       "\n",
       "                        channel_link_0      p  \n",
       "501  /channel/UCeq6ZIlvC9SVsfhfKnSvM9w  0.093  \n",
       "502  /channel/UC4UJ26WkceqONNF5S26OiVw  0.037  "
      ]
     },
     "execution_count": 64,
     "metadata": {},
     "output_type": "execute_result"
    }
   ],
   "source": [
    "df_unlabed.head(2)"
   ]
  },
  {
   "cell_type": "code",
   "execution_count": 74,
   "metadata": {},
   "outputs": [],
   "source": [
    "mask_u = ((df_unlabed.p >=0.26) & (df_unlabed.p<=1))"
   ]
  },
  {
   "cell_type": "code",
   "execution_count": 84,
   "metadata": {},
   "outputs": [],
   "source": [
    "hard = df_unlabed[mask_u]\n",
    "random = df_unlabed[~mask_u].sample(31)"
   ]
  },
  {
   "cell_type": "code",
   "execution_count": 86,
   "metadata": {},
   "outputs": [],
   "source": [
    "pd.concat([hard,random]).to_csv('./active_label.csv')"
   ]
  },
  {
   "cell_type": "code",
   "execution_count": null,
   "metadata": {},
   "outputs": [],
   "source": []
  }
 ],
 "metadata": {
  "kernelspec": {
   "display_name": "Python 3",
   "language": "python",
   "name": "python3"
  },
  "language_info": {
   "codemirror_mode": {
    "name": "ipython",
    "version": 3
   },
   "file_extension": ".py",
   "mimetype": "text/x-python",
   "name": "python",
   "nbconvert_exporter": "python",
   "pygments_lexer": "ipython3",
   "version": "3.7.4"
  }
 },
 "nbformat": 4,
 "nbformat_minor": 4
}
