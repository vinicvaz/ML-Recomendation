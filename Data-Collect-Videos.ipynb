{
 "cells": [
  {
   "cell_type": "code",
   "execution_count": 28,
   "metadata": {},
   "outputs": [],
   "source": [
    "import pandas as pd\n",
    "import numpy as np\n",
    "import time\n",
    "import re\n",
    "import json\n",
    "import tqdm\n",
    "import glob\n",
    "import requests as rq # http requests\n",
    "import bs4 as bs4 # beautiful soup for parsing"
   ]
  },
  {
   "cell_type": "markdown",
   "metadata": {},
   "source": [
    "# 1.0 - Data Collect"
   ]
  },
  {
   "cell_type": "code",
   "execution_count": 2,
   "metadata": {},
   "outputs": [],
   "source": [
    "df = pd.read_json('./parsed_videos.json', lines=True)"
   ]
  },
  {
   "cell_type": "code",
   "execution_count": 6,
   "metadata": {},
   "outputs": [
    {
     "name": "stdout",
     "output_type": "stream",
     "text": [
      "Lenght unique links: 1780\n",
      "Number of duplicated links 32\n"
     ]
    }
   ],
   "source": [
    "## Get all unique links\n",
    "unique_links = df.link.unique()\n",
    "print(\"Lenght unique links:\",len(unique_links))\n",
    "print(\"Number of duplicated links\", len(df)-len(unique_links))"
   ]
  },
  {
   "cell_type": "code",
   "execution_count": 10,
   "metadata": {},
   "outputs": [],
   "source": [
    "url = 'http://www.youtube.com{link}'"
   ]
  },
  {
   "cell_type": "code",
   "execution_count": null,
   "metadata": {},
   "outputs": [],
   "source": [
    "for link in unique_links:\n",
    "    urll = url.format(link=link)\n",
    "    print(urll)\n",
    "    response = rq.get(urll)\n",
    "    \n",
    "    link_name = re.search(\"v=(.*)\", link).group(1)\n",
    "    with open(\"./raw_data/video_{}.html\".format(link_name),'w+') as output:\n",
    "        output.write(response.text)\n",
    "    time.sleep(2)"
   ]
  },
  {
   "cell_type": "markdown",
   "metadata": {},
   "source": [
    "# 2.0 - Data Processing"
   ]
  },
  {
   "cell_type": "code",
   "execution_count": 34,
   "metadata": {},
   "outputs": [
    {
     "data": {
      "application/vnd.jupyter.widget-view+json": {
       "model_id": "b5ce5a02fd8a45f28586f83037fb1b5c",
       "version_major": 2,
       "version_minor": 0
      },
      "text/plain": [
       "HBox(children=(IntProgress(value=0, max=1780), HTML(value='')))"
      ]
     },
     "metadata": {},
     "output_type": "display_data"
    },
    {
     "name": "stdout",
     "output_type": "stream",
     "text": [
      "\n"
     ]
    }
   ],
   "source": [
    "with open(\"parsed_video_info.json\",\"w+\") as output:\n",
    "    for video_file in tqdm.tqdm_notebook(sorted(glob.glob(\"./raw_data/video*\"))):\n",
    "        with open(video_file,\"r+\") as inp:\n",
    "            page_html = inp.read() \n",
    "            parsed = bs4.BeautifulSoup(page_html,\"html.parser\") \n",
    "            \n",
    "            class_watch = parsed.find_all(attr={\"class\":re.compile(r\"watch\")}) \n",
    "            id_watch = parsed.find_all(attr={\"id\":re.compile(r\"watch\")}) \n",
    "            channel = parsed.find_all(\"a\",attr={\"href\":re.compile(r\"channel\")}) \n",
    "            meta = parsed.find_all(\"meta\") \n",
    "        \n",
    "            \n",
    "            data = dict()\n",
    "            \n",
    "            for e in class_watch:\n",
    "                colname =\"_\".join(e['class'])\n",
    "                if 'clearfix' in colname: ## Jump condition to clear fix to not create one column per video\n",
    "                    continue\n",
    "                data[colname] = e.text.strip()\n",
    "                \n",
    "            for e in id_watch:\n",
    "                colname = \"_\".join(e['id'])\n",
    "                data[colname] = e.text.strip()\n",
    "                \n",
    "            for e in meta:\n",
    "                colname = e.get('property')\n",
    "                if colname is not None:\n",
    "                    data[colname] = e['content']\n",
    "                    \n",
    "            for link_num, e in enumerate(channel):\n",
    "                data['channel_link_{}'.format(link_num)] = e['href']\n",
    "            \n",
    "            \n",
    "            output.write(\"{}\\n\".format(json.dumps(data)))\n",
    "                    \n",
    "                    "
   ]
  },
  {
   "cell_type": "code",
   "execution_count": null,
   "metadata": {},
   "outputs": [],
   "source": []
  }
 ],
 "metadata": {
  "kernelspec": {
   "display_name": "Python 3",
   "language": "python",
   "name": "python3"
  },
  "language_info": {
   "codemirror_mode": {
    "name": "ipython",
    "version": 3
   },
   "file_extension": ".py",
   "mimetype": "text/x-python",
   "name": "python",
   "nbconvert_exporter": "python",
   "pygments_lexer": "ipython3",
   "version": "3.7.4"
  }
 },
 "nbformat": 4,
 "nbformat_minor": 4
}
