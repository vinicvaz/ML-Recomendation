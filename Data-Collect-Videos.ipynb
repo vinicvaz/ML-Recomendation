{
 "cells": [
  {
   "cell_type": "code",
   "execution_count": 1,
   "metadata": {},
   "outputs": [],
   "source": [
    "import pandas as pd\n",
    "import numpy as np\n",
    "import time\n",
    "import re\n",
    "import json\n",
    "import tqdm\n",
    "import glob\n",
    "import requests as rq # http requests\n",
    "import bs4 as bs4 # beautiful soup for parsing"
   ]
  },
  {
   "cell_type": "markdown",
   "metadata": {},
   "source": [
    "# 1.0 - Data Collect"
   ]
  },
  {
   "cell_type": "code",
   "execution_count": 2,
   "metadata": {},
   "outputs": [],
   "source": [
    "df = pd.read_json('./parsed_videos.json', lines=True)"
   ]
  },
  {
   "cell_type": "code",
   "execution_count": 55,
   "metadata": {},
   "outputs": [
    {
     "name": "stdout",
     "output_type": "stream",
     "text": [
      "Lenght unique links: 1780\n",
      "Number of duplicated links 32\n"
     ]
    }
   ],
   "source": [
    "## Get all unique links\n",
    "unique_links = df.link.unique()\n",
    "print(\"Lenght unique links:\",len(unique_links))\n",
    "print(\"Number of duplicated links\", len(df)-len(unique_links))"
   ]
  },
  {
   "cell_type": "code",
   "execution_count": 56,
   "metadata": {},
   "outputs": [],
   "source": [
    "url = 'http://www.youtube.com{link}'"
   ]
  },
  {
   "cell_type": "code",
   "execution_count": null,
   "metadata": {},
   "outputs": [],
   "source": [
    "for link in unique_links:\n",
    "    urll = url.format(link=link)\n",
    "    print(urll)\n",
    "    response = rq.get(urll)\n",
    "    \n",
    "    link_name = re.search(\"v=(.*)\", link).group(1)\n",
    "    with open(\"./raw_data/video_{}.html\".format(link_name),'w+') as output:\n",
    "        output.write(response.text)\n",
    "    time.sleep(2)"
   ]
  },
  {
   "cell_type": "markdown",
   "metadata": {},
   "source": [
    "# 2.0 - Data Processing"
   ]
  },
  {
   "cell_type": "code",
   "execution_count": 63,
   "metadata": {},
   "outputs": [
    {
     "data": {
      "application/vnd.jupyter.widget-view+json": {
       "model_id": "2a4c88a3692443bf892bf1c9c826d544",
       "version_major": 2,
       "version_minor": 0
      },
      "text/plain": [
       "HBox(children=(IntProgress(value=0, max=1780), HTML(value='')))"
      ]
     },
     "metadata": {},
     "output_type": "display_data"
    },
    {
     "name": "stdout",
     "output_type": "stream",
     "text": [
      "\n"
     ]
    }
   ],
   "source": [
    "with open(\"parsed_video_info.json\",\"w+\") as output:\n",
    "    for video_file in tqdm.tqdm_notebook(sorted(glob.glob(\"./raw_data/video*\"))):\n",
    "        with open(video_file,\"r+\") as inp:\n",
    "            page_html = inp.read() \n",
    "            parsed = bs4.BeautifulSoup(page_html,\"html.parser\") \n",
    "            \n",
    "            class_watch = parsed.find_all(attrs={\"class\":re.compile(r\"watch\")}) \n",
    "            id_watch = parsed.find_all(attrs={\"id\":re.compile(r\"watch\")}) \n",
    "            channel = parsed.find_all(\"a\",attrs={\"href\":re.compile(r\"channel\")}) \n",
    "            meta = parsed.find_all(\"meta\") \n",
    "        \n",
    "            \n",
    "            data = dict()\n",
    "            \n",
    "            for e in class_watch:\n",
    "                colname =\"_\".join(e['class'])\n",
    "                if 'clearfix' in colname: ## Jump condition to clear fix to not create one column per video\n",
    "                    continue\n",
    "                data[colname] = e.text.strip()\n",
    "                \n",
    "            for e in id_watch:\n",
    "                colname = e['id']\n",
    "                data[colname] = e.text.strip()\n",
    "                \n",
    "            for e in meta:\n",
    "                colname = e.get('property')\n",
    "                if colname is not None:\n",
    "                    data[colname] = e['content']\n",
    "                    \n",
    "            for link_num, e in enumerate(channel):\n",
    "                data['channel_link_{}'.format(link_num)] = e['href']\n",
    "            \n",
    "            \n",
    "            output.write(\"{}\\n\".format(json.dumps(data)))\n",
    "                    \n",
    "                    "
   ]
  },
  {
   "cell_type": "markdown",
   "metadata": {},
   "source": [
    "# 3.0 - Verification"
   ]
  },
  {
   "cell_type": "code",
   "execution_count": 3,
   "metadata": {},
   "outputs": [
    {
     "data": {
      "text/plain": [
       "(1780, 173)"
      ]
     },
     "execution_count": 3,
     "metadata": {},
     "output_type": "execute_result"
    }
   ],
   "source": [
    "df = pd.read_json('./parsed_video_info.json',lines=True)\n",
    "df.shape"
   ]
  },
  {
   "cell_type": "code",
   "execution_count": 14,
   "metadata": {},
   "outputs": [],
   "source": [
    "pd.set_option('display.max_columns',174)"
   ]
  },
  {
   "cell_type": "code",
   "execution_count": 29,
   "metadata": {},
   "outputs": [],
   "source": [
    "selected_columns = ['watch-title','watch-view-count','watch-time-text','content_watch-info-tag-list',\n",
    "                   'watch7-headline','watch7-user-header','watch8-sentiment-actions','og:image',\n",
    "                   'og:image:width','og:image:height','og:description','og:video:width','og:video:height',\n",
    "                   'og:video:tag','channel_link_0']"
   ]
  },
  {
   "cell_type": "code",
   "execution_count": 34,
   "metadata": {},
   "outputs": [
    {
     "data": {
      "text/html": [
       "<div>\n",
       "<style scoped>\n",
       "    .dataframe tbody tr th:only-of-type {\n",
       "        vertical-align: middle;\n",
       "    }\n",
       "\n",
       "    .dataframe tbody tr th {\n",
       "        vertical-align: top;\n",
       "    }\n",
       "\n",
       "    .dataframe thead th {\n",
       "        text-align: right;\n",
       "    }\n",
       "</style>\n",
       "<table border=\"1\" class=\"dataframe\">\n",
       "  <thead>\n",
       "    <tr style=\"text-align: right;\">\n",
       "      <th></th>\n",
       "      <th>watch-title</th>\n",
       "      <th>watch-view-count</th>\n",
       "      <th>watch-time-text</th>\n",
       "      <th>content_watch-info-tag-list</th>\n",
       "      <th>watch7-headline</th>\n",
       "      <th>watch7-user-header</th>\n",
       "      <th>watch8-sentiment-actions</th>\n",
       "      <th>og:image</th>\n",
       "      <th>og:image:width</th>\n",
       "      <th>og:image:height</th>\n",
       "      <th>og:description</th>\n",
       "      <th>og:video:width</th>\n",
       "      <th>og:video:height</th>\n",
       "      <th>og:video:tag</th>\n",
       "      <th>channel_link_0</th>\n",
       "    </tr>\n",
       "  </thead>\n",
       "  <tbody>\n",
       "    <tr>\n",
       "      <td>0</td>\n",
       "      <td>Data Science &amp; Psychology as an approach in Us...</td>\n",
       "      <td>NaN</td>\n",
       "      <td>Published on Feb 12, 2020</td>\n",
       "      <td>People &amp; Blogs</td>\n",
       "      <td>Data Science &amp; Psychology as an approach in Us...</td>\n",
       "      <td>Humans of Analytics\\n\\n\\n\\n\\n\\n\\n\\n\\n\\n\\n\\n\\n\\...</td>\n",
       "      <td>NaN</td>\n",
       "      <td>https://i.ytimg.com/vi/--X0GVq5A3U/hqdefault.jpg</td>\n",
       "      <td>480</td>\n",
       "      <td>360</td>\n",
       "      <td>With the steaming conversations going around, ...</td>\n",
       "      <td>1280.0</td>\n",
       "      <td>720.0</td>\n",
       "      <td>#AnalyticsCommunity #HumansofAnalytics #DataSc...</td>\n",
       "      <td>/channel/UCgOkTQqzOWNxqFpXymQE7RA</td>\n",
       "    </tr>\n",
       "    <tr>\n",
       "      <td>1</td>\n",
       "      <td>Machine Learning Course A To Z || Beginner to ...</td>\n",
       "      <td>172,078 views</td>\n",
       "      <td>Published on Aug 10, 2018</td>\n",
       "      <td>Education</td>\n",
       "      <td>Machine Learning Course A To Z || Beginner to ...</td>\n",
       "      <td>Geek's Lesson\\n\\n\\n\\n\\n\\n\\n\\n\\n\\n\\n\\n\\n\\nLoadi...</td>\n",
       "      <td>172,078 views\\n\\n\\n\\n\\n\\n\\n\\n5,084\\n\\nLike thi...</td>\n",
       "      <td>https://i.ytimg.com/vi/-58kO_zYUGE/maxresdefau...</td>\n",
       "      <td>1280</td>\n",
       "      <td>720</td>\n",
       "      <td>Welcome to this free online class on machine l...</td>\n",
       "      <td>640.0</td>\n",
       "      <td>360.0</td>\n",
       "      <td>Ai and machine learning course</td>\n",
       "      <td>/channel/UCKXx22vOENUyHrVAADq7Z_g</td>\n",
       "    </tr>\n",
       "  </tbody>\n",
       "</table>\n",
       "</div>"
      ],
      "text/plain": [
       "                                         watch-title watch-view-count  \\\n",
       "0  Data Science & Psychology as an approach in Us...              NaN   \n",
       "1  Machine Learning Course A To Z || Beginner to ...    172,078 views   \n",
       "\n",
       "             watch-time-text content_watch-info-tag-list  \\\n",
       "0  Published on Feb 12, 2020              People & Blogs   \n",
       "1  Published on Aug 10, 2018                   Education   \n",
       "\n",
       "                                     watch7-headline  \\\n",
       "0  Data Science & Psychology as an approach in Us...   \n",
       "1  Machine Learning Course A To Z || Beginner to ...   \n",
       "\n",
       "                                  watch7-user-header  \\\n",
       "0  Humans of Analytics\\n\\n\\n\\n\\n\\n\\n\\n\\n\\n\\n\\n\\n\\...   \n",
       "1  Geek's Lesson\\n\\n\\n\\n\\n\\n\\n\\n\\n\\n\\n\\n\\n\\nLoadi...   \n",
       "\n",
       "                            watch8-sentiment-actions  \\\n",
       "0                                                NaN   \n",
       "1  172,078 views\\n\\n\\n\\n\\n\\n\\n\\n5,084\\n\\nLike thi...   \n",
       "\n",
       "                                            og:image  og:image:width  \\\n",
       "0   https://i.ytimg.com/vi/--X0GVq5A3U/hqdefault.jpg             480   \n",
       "1  https://i.ytimg.com/vi/-58kO_zYUGE/maxresdefau...            1280   \n",
       "\n",
       "   og:image:height                                     og:description  \\\n",
       "0              360  With the steaming conversations going around, ...   \n",
       "1              720  Welcome to this free online class on machine l...   \n",
       "\n",
       "   og:video:width  og:video:height  \\\n",
       "0          1280.0            720.0   \n",
       "1           640.0            360.0   \n",
       "\n",
       "                                        og:video:tag  \\\n",
       "0  #AnalyticsCommunity #HumansofAnalytics #DataSc...   \n",
       "1                     Ai and machine learning course   \n",
       "\n",
       "                      channel_link_0  \n",
       "0  /channel/UCgOkTQqzOWNxqFpXymQE7RA  \n",
       "1  /channel/UCKXx22vOENUyHrVAADq7Z_g  "
      ]
     },
     "execution_count": 34,
     "metadata": {},
     "output_type": "execute_result"
    }
   ],
   "source": [
    "df[selected_columns].head(2)"
   ]
  },
  {
   "cell_type": "code",
   "execution_count": 36,
   "metadata": {},
   "outputs": [],
   "source": [
    "df[selected_columns].to_feather('raw_data.feather')"
   ]
  },
  {
   "cell_type": "code",
   "execution_count": 38,
   "metadata": {},
   "outputs": [],
   "source": [
    "df[selected_columns].to_csv('raw_data_no_labels.csv')"
   ]
  },
  {
   "cell_type": "code",
   "execution_count": null,
   "metadata": {},
   "outputs": [],
   "source": [
    "test = pd.read_csv('./raw_data_no_labels.csv')"
   ]
  }
 ],
 "metadata": {
  "kernelspec": {
   "display_name": "Python 3",
   "language": "python",
   "name": "python3"
  },
  "language_info": {
   "codemirror_mode": {
    "name": "ipython",
    "version": 3
   },
   "file_extension": ".py",
   "mimetype": "text/x-python",
   "name": "python",
   "nbconvert_exporter": "python",
   "pygments_lexer": "ipython3",
   "version": "3.7.4"
  }
 },
 "nbformat": 4,
 "nbformat_minor": 4
}
