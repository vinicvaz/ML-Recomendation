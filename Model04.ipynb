{
 "cells": [
  {
   "cell_type": "code",
   "execution_count": 48,
   "metadata": {},
   "outputs": [
    {
     "name": "stdout",
     "output_type": "stream",
     "text": [
      "Populating the interactive namespace from numpy and matplotlib\n"
     ]
    }
   ],
   "source": [
    "import pandas as pd\n",
    "import numpy as np\n",
    "import re\n",
    "import time\n",
    "import bs4 as bs4\n",
    "import json\n",
    "import glob\n",
    "import tqdm\n",
    "\n",
    "pd.set_option('max.columns',131)\n",
    "%matplotlib inline\n",
    "%pylab inline\n",
    "\n",
    "import warnings\n",
    "warnings.filterwarnings('ignore')"
   ]
  },
  {
   "cell_type": "code",
   "execution_count": 49,
   "metadata": {},
   "outputs": [],
   "source": [
    "df = pd.read_csv('./data_labels_old.csv',index_col=0).dropna(subset=['y'])"
   ]
  },
  {
   "cell_type": "code",
   "execution_count": 50,
   "metadata": {},
   "outputs": [
    {
     "data": {
      "text/plain": [
       "(1164, 16)"
      ]
     },
     "execution_count": 50,
     "metadata": {},
     "output_type": "execute_result"
    }
   ],
   "source": [
    "df.shape"
   ]
  },
  {
   "cell_type": "code",
   "execution_count": 51,
   "metadata": {},
   "outputs": [],
   "source": [
    "from sklearn.linear_model import LogisticRegression\n",
    "from sklearn.ensemble import RandomForestClassifier"
   ]
  },
  {
   "cell_type": "markdown",
   "metadata": {},
   "source": [
    "# 1.0 - Data Cleaning"
   ]
  },
  {
   "cell_type": "code",
   "execution_count": 52,
   "metadata": {},
   "outputs": [],
   "source": [
    "df_clean = pd.DataFrame(index=df.index)\n",
    "df_clean['title'] = df['watch-title']"
   ]
  },
  {
   "cell_type": "code",
   "execution_count": 53,
   "metadata": {},
   "outputs": [],
   "source": [
    "clean_date = df['watch-time-text'].str.extract(r'(\\d+) de ([a-z]+)\\. de (\\d+)')\n",
    "clean_date[0] = clean_date[0].map(lambda x: \"0\"+x[0] if len(x) == 1 else x)\n",
    "\n",
    "month_map = {\n",
    "    'jan':'Jan',\n",
    "    'fev':'Feb',\n",
    "    'mar':'Mar',\n",
    "    'abr':'Apr',\n",
    "    'mai':'May',\n",
    "    'jun':'Jun',\n",
    "    'jul':'Jul',\n",
    "    'ago':'Aug',\n",
    "    'set':'Sep',\n",
    "    'out':'Oct',\n",
    "    'nov':'Nov',\n",
    "    'dez':'Dec'\n",
    "}\n",
    "\n",
    "clean_date[1] = clean_date[1].map(month_map)\n",
    "clean_date = clean_date.apply(lambda x: ' '.join(x), axis=1)\n",
    "df_clean['date'] = pd.to_datetime(clean_date, format=\"%d %b %Y\")"
   ]
  },
  {
   "cell_type": "code",
   "execution_count": 54,
   "metadata": {},
   "outputs": [],
   "source": [
    "## Clean View Count\n",
    "views = df['watch-view-count'].str.extract(r'(\\d+\\.?\\d*)', expand=False).str.replace('.','').fillna(0).astype(int)\n",
    "df_clean['views'] = views"
   ]
  },
  {
   "cell_type": "markdown",
   "metadata": {},
   "source": [
    "# 2.0 - Features"
   ]
  },
  {
   "cell_type": "code",
   "execution_count": 55,
   "metadata": {},
   "outputs": [],
   "source": [
    "features = pd.DataFrame(index=df_clean.index)\n",
    "y = df['y'].copy()"
   ]
  },
  {
   "cell_type": "code",
   "execution_count": 56,
   "metadata": {},
   "outputs": [],
   "source": [
    "features['time_since_pub'] = (pd.to_datetime('2019-12-03') - df_clean['date'])/np.timedelta64(1,'D')\n",
    "features['views'] = df_clean.views\n",
    "features['views_per_day'] = features.views/features.time_since_pub\n",
    "features.drop(['time_since_pub'],axis=1,inplace=True)"
   ]
  },
  {
   "cell_type": "code",
   "execution_count": 57,
   "metadata": {},
   "outputs": [
    {
     "data": {
      "text/plain": [
       "(1164, 2)"
      ]
     },
     "execution_count": 57,
     "metadata": {},
     "output_type": "execute_result"
    }
   ],
   "source": [
    "features.shape"
   ]
  },
  {
   "cell_type": "code",
   "execution_count": 58,
   "metadata": {},
   "outputs": [
    {
     "data": {
      "text/html": [
       "<div>\n",
       "<style scoped>\n",
       "    .dataframe tbody tr th:only-of-type {\n",
       "        vertical-align: middle;\n",
       "    }\n",
       "\n",
       "    .dataframe tbody tr th {\n",
       "        vertical-align: top;\n",
       "    }\n",
       "\n",
       "    .dataframe thead th {\n",
       "        text-align: right;\n",
       "    }\n",
       "</style>\n",
       "<table border=\"1\" class=\"dataframe\">\n",
       "  <thead>\n",
       "    <tr style=\"text-align: right;\">\n",
       "      <th></th>\n",
       "      <th>views</th>\n",
       "      <th>views_per_day</th>\n",
       "    </tr>\n",
       "  </thead>\n",
       "  <tbody>\n",
       "    <tr>\n",
       "      <td>0</td>\n",
       "      <td>28028</td>\n",
       "      <td>61.464912</td>\n",
       "    </tr>\n",
       "    <tr>\n",
       "      <td>394</td>\n",
       "      <td>1161</td>\n",
       "      <td>21.109091</td>\n",
       "    </tr>\n",
       "    <tr>\n",
       "      <td>393</td>\n",
       "      <td>141646</td>\n",
       "      <td>809.405714</td>\n",
       "    </tr>\n",
       "    <tr>\n",
       "      <td>392</td>\n",
       "      <td>325</td>\n",
       "      <td>21.666667</td>\n",
       "    </tr>\n",
       "    <tr>\n",
       "      <td>391</td>\n",
       "      <td>61</td>\n",
       "      <td>7.625000</td>\n",
       "    </tr>\n",
       "  </tbody>\n",
       "</table>\n",
       "</div>"
      ],
      "text/plain": [
       "      views  views_per_day\n",
       "0     28028      61.464912\n",
       "394    1161      21.109091\n",
       "393  141646     809.405714\n",
       "392     325      21.666667\n",
       "391      61       7.625000"
      ]
     },
     "execution_count": 58,
     "metadata": {},
     "output_type": "execute_result"
    }
   ],
   "source": [
    "features.head()"
   ]
  },
  {
   "cell_type": "code",
   "execution_count": 59,
   "metadata": {},
   "outputs": [],
   "source": [
    "mask_train = df_clean.date <'2019-04-01'\n",
    "mask_val = df_clean.date>='2019-04-01'"
   ]
  },
  {
   "cell_type": "code",
   "execution_count": 60,
   "metadata": {},
   "outputs": [
    {
     "data": {
      "text/plain": [
       "((555, 2), (609, 2), (555,), (609,))"
      ]
     },
     "execution_count": 60,
     "metadata": {},
     "output_type": "execute_result"
    }
   ],
   "source": [
    "Xtrain, Xval = features[mask_train], features[mask_val]\n",
    "ytrain, yval = y[mask_train], y[mask_val]\n",
    "Xtrain.shape, Xval.shape, ytrain.shape, yval.shape"
   ]
  },
  {
   "cell_type": "code",
   "execution_count": 61,
   "metadata": {},
   "outputs": [],
   "source": [
    "from sklearn.feature_extraction.text import TfidfVectorizer"
   ]
  },
  {
   "cell_type": "code",
   "execution_count": 62,
   "metadata": {},
   "outputs": [],
   "source": [
    "title_train = df_clean[mask_train].title\n",
    "title_val = df_clean[mask_val].title\n",
    "\n",
    "title_vec = TfidfVectorizer(min_df=2, ngram_range=(1,3))\n",
    "title_bow_train = title_vec.fit_transform(title_train)\n",
    "title_bow_val = title_vec.transform(title_val)"
   ]
  },
  {
   "cell_type": "code",
   "execution_count": 63,
   "metadata": {},
   "outputs": [],
   "source": [
    "from scipy.sparse import hstack, vstack"
   ]
  },
  {
   "cell_type": "code",
   "execution_count": 64,
   "metadata": {},
   "outputs": [
    {
     "data": {
      "text/plain": [
       "(555, 1144)"
      ]
     },
     "execution_count": 64,
     "metadata": {},
     "output_type": "execute_result"
    }
   ],
   "source": [
    "title_bow_train.shape"
   ]
  },
  {
   "cell_type": "code",
   "execution_count": 65,
   "metadata": {},
   "outputs": [],
   "source": [
    "Xtrain_wtitle = hstack([Xtrain, title_bow_train])\n",
    "Xval_wtitle = hstack([Xval, title_bow_val])"
   ]
  },
  {
   "cell_type": "code",
   "execution_count": 66,
   "metadata": {},
   "outputs": [
    {
     "data": {
      "text/plain": [
       "((555, 1146), (609, 1146))"
      ]
     },
     "execution_count": 66,
     "metadata": {},
     "output_type": "execute_result"
    }
   ],
   "source": [
    "Xtrain_wtitle.shape, Xval_wtitle.shape"
   ]
  },
  {
   "cell_type": "code",
   "execution_count": 67,
   "metadata": {},
   "outputs": [
    {
     "data": {
      "text/plain": [
       "RandomForestClassifier(bootstrap=True, class_weight='balanced',\n",
       "                       criterion='gini', max_depth=None, max_features='auto',\n",
       "                       max_leaf_nodes=None, min_impurity_decrease=0.0,\n",
       "                       min_impurity_split=None, min_samples_leaf=1,\n",
       "                       min_samples_split=2, min_weight_fraction_leaf=0.0,\n",
       "                       n_estimators=1000, n_jobs=None, oob_score=False,\n",
       "                       random_state=0, verbose=0, warm_start=False)"
      ]
     },
     "execution_count": 67,
     "metadata": {},
     "output_type": "execute_result"
    }
   ],
   "source": [
    "mdl = RandomForestClassifier(n_estimators=1000, random_state=0, min_samples_leaf=1, class_weight='balanced')\n",
    "mdl.fit(Xtrain_wtitle, ytrain)"
   ]
  },
  {
   "cell_type": "code",
   "execution_count": 68,
   "metadata": {},
   "outputs": [],
   "source": [
    "p = mdl.predict_proba(Xval_wtitle)[:,1]"
   ]
  },
  {
   "cell_type": "code",
   "execution_count": 69,
   "metadata": {},
   "outputs": [],
   "source": [
    "from sklearn.metrics import roc_auc_score, average_precision_score"
   ]
  },
  {
   "cell_type": "code",
   "execution_count": 70,
   "metadata": {},
   "outputs": [
    {
     "name": "stdout",
     "output_type": "stream",
     "text": [
      "Results w/ min_samples_leaf=1, 1k trees and ngram_range=(1,3)\n",
      "\n",
      "ap: 0.22228951304206077\n",
      "auc: 0.6914990859232175\n"
     ]
    }
   ],
   "source": [
    "print('Results w/ min_samples_leaf=1, 1k trees and ngram_range=(1,3)\\n')\n",
    "print('ap:',average_precision_score(yval,p))\n",
    "print('auc:',roc_auc_score(yval,p))"
   ]
  },
  {
   "cell_type": "markdown",
   "metadata": {},
   "source": [
    "# LightGBM"
   ]
  },
  {
   "cell_type": "code",
   "execution_count": 71,
   "metadata": {},
   "outputs": [],
   "source": [
    "from lightgbm import LGBMClassifier"
   ]
  },
  {
   "cell_type": "code",
   "execution_count": 72,
   "metadata": {},
   "outputs": [],
   "source": [
    "from scipy.sparse import hstack, vstack"
   ]
  },
  {
   "cell_type": "code",
   "execution_count": 73,
   "metadata": {},
   "outputs": [
    {
     "data": {
      "text/plain": [
       "LGBMClassifier(boosting_type='gbdt', class_weight='balanced',\n",
       "               colsample_bytree=1.0, importance_type='split', learning_rate=0.1,\n",
       "               max_depth=-1, min_child_samples=20, min_child_weight=0.001,\n",
       "               min_split_gain=0.0, n_estimators=100, n_jobs=-1, num_leaves=31,\n",
       "               objective=None, random_state=0, reg_alpha=0.0, reg_lambda=0.0,\n",
       "               silent=True, subsample=1.0, subsample_for_bin=200000,\n",
       "               subsample_freq=0)"
      ]
     },
     "execution_count": 73,
     "metadata": {},
     "output_type": "execute_result"
    }
   ],
   "source": [
    "mdl = LGBMClassifier(random_state=0, class_weight='balanced')\n",
    "mdl.fit(Xtrain_wtitle, ytrain)"
   ]
  },
  {
   "cell_type": "code",
   "execution_count": 74,
   "metadata": {},
   "outputs": [],
   "source": [
    "p = mdl.predict_proba(Xval_wtitle)[:,1]"
   ]
  },
  {
   "cell_type": "code",
   "execution_count": 75,
   "metadata": {},
   "outputs": [
    {
     "name": "stdout",
     "output_type": "stream",
     "text": [
      "ap: 0.17930936519845178\n",
      "auc: 0.6177389868490889\n"
     ]
    }
   ],
   "source": [
    "print('ap:',average_precision_score(yval,p))\n",
    "print('auc:',roc_auc_score(yval,p))"
   ]
  },
  {
   "cell_type": "markdown",
   "metadata": {},
   "source": [
    "**Probably tunning improves the results**"
   ]
  },
  {
   "cell_type": "markdown",
   "metadata": {},
   "source": [
    "## Bayesian Optimization"
   ]
  },
  {
   "cell_type": "code",
   "execution_count": 76,
   "metadata": {},
   "outputs": [],
   "source": [
    "from skopt import forest_minimize"
   ]
  },
  {
   "cell_type": "code",
   "execution_count": 77,
   "metadata": {},
   "outputs": [],
   "source": [
    "def tune_lgbm(args):\n",
    "    ## Model Parameters\n",
    "    print(args)\n",
    "    lr = args[0]\n",
    "    max_depth = args[1]\n",
    "    min_child_samples = args[2]\n",
    "    subsample = args[3]\n",
    "    colsample_bytree = args[4]\n",
    "    n_estimators = args[5]\n",
    "    \n",
    "    ## Tfidf Vec Parameters\n",
    "    min_df = args[6]\n",
    "    ngram_range = (1,args[7])\n",
    "    \n",
    "    title_vec = TfidfVectorizer(min_df=min_df, ngram_range=ngram_range)\n",
    "    title_bow_train = title_vec.fit_transform(title_train)\n",
    "    title_bow_val = title_vec.transform(title_val)\n",
    "    \n",
    "    Xtrain_wtitle = hstack([Xtrain, title_bow_train])\n",
    "    Xval_wtitle = hstack([Xval, title_bow_val])\n",
    "    \n",
    "    mdl = LGBMClassifier(learning_rate=lr, num_leaves=2 ** max_depth, max_depth=max_depth,\n",
    "                        min_child_samples=min_child_samples, subsample=subsample,\n",
    "                        colsample_bytree=colsample_bytree, bagging_freq=1, n_estimators=n_estimators,\n",
    "                        random_state=0, class_weight='balanced', n_jobs=6)\n",
    "    \n",
    "    mdl.fit(Xtrain_wtitle, ytrain)\n",
    "    \n",
    "    p = mdl.predict_proba(Xval_wtitle)[:,1]\n",
    "    \n",
    "    print(roc_auc_score(yval,p))\n",
    "    \n",
    "    return -average_precision_score(yval,p) ## To maximize ap, return the negative to the minimize func\n",
    "\n"
   ]
  },
  {
   "cell_type": "code",
   "execution_count": 78,
   "metadata": {},
   "outputs": [
    {
     "name": "stdout",
     "output_type": "stream",
     "text": [
      "Iteration No: 1 started. Evaluating function at random point.\n",
      "[0.009944912110647982, 5, 1, 0.4677107511929402, 0.49263223036174764, 272, 3, 1]\n",
      "0.6016099545910243\n",
      "Iteration No: 1 ended. Evaluation done at random point.\n",
      "Time taken: 0.6894\n",
      "Function value obtained: -0.1404\n",
      "Current minimum: -0.1404\n",
      "Iteration No: 2 started. Evaluating function at random point.\n",
      "[0.053887464791860025, 1, 15, 0.7437489153990157, 0.8675167974293533, 549, 3, 4]\n",
      "0.5507312614259597\n",
      "Iteration No: 2 ended. Evaluation done at random point.\n",
      "Time taken: 0.3842\n",
      "Function value obtained: -0.1203\n",
      "Current minimum: -0.1404\n",
      "Iteration No: 3 started. Evaluating function at random point.\n",
      "[0.004151454520895999, 6, 20, 0.8682075103820793, 0.9491436163200662, 411, 4, 3]\n",
      "0.587884059680368\n",
      "Iteration No: 3 ended. Evaluation done at random point.\n",
      "Time taken: 0.5748\n",
      "Function value obtained: -0.1487\n",
      "Current minimum: -0.1487\n",
      "Iteration No: 4 started. Evaluating function at random point.\n",
      "[0.0014099928811969545, 9, 9, 0.6502182010234373, 0.6866210554187129, 828, 5, 2]\n",
      "0.6245355900218199\n",
      "Iteration No: 4 ended. Evaluation done at random point.\n",
      "Time taken: 2.0022\n",
      "Function value obtained: -0.1555\n",
      "Current minimum: -0.1555\n",
      "Iteration No: 5 started. Evaluating function at random point.\n",
      "[0.08530558241838007, 8, 19, 0.2137736299768322, 0.1313765544201984, 961, 4, 1]\n",
      "0.5\n",
      "Iteration No: 5 ended. Evaluation done at random point.\n",
      "Time taken: 0.5578\n",
      "Function value obtained: -0.1018\n",
      "Current minimum: -0.1555\n",
      "Iteration No: 6 started. Evaluating function at random point.\n",
      "[0.003567949451535685, 10, 19, 0.7232951768944309, 0.7298538828427115, 939, 4, 3]\n",
      "0.5755882526390281\n",
      "Iteration No: 6 ended. Evaluation done at random point.\n",
      "Time taken: 2.7769\n",
      "Function value obtained: -0.1388\n",
      "Current minimum: -0.1555\n",
      "Iteration No: 7 started. Evaluating function at random point.\n",
      "[0.014828577273549474, 7, 1, 0.18428087097824575, 0.3261556557915816, 274, 1, 2]\n",
      "0.585421949637318\n",
      "Iteration No: 7 ended. Evaluation done at random point.\n",
      "Time taken: 1.9207\n",
      "Function value obtained: -0.1444\n",
      "Current minimum: -0.1555\n",
      "Iteration No: 8 started. Evaluating function at random point.\n",
      "[0.0015212976972079912, 3, 12, 0.44234694306528044, 0.399351303640462, 272, 3, 5]\n",
      "0.5672288730317863\n",
      "Iteration No: 8 ended. Evaluation done at random point.\n",
      "Time taken: 0.3699\n",
      "Function value obtained: -0.1394\n",
      "Current minimum: -0.1555\n",
      "Iteration No: 9 started. Evaluating function at random point.\n",
      "[0.01946212855369041, 9, 18, 0.5235636153223084, 0.6728679300083596, 747, 4, 5]\n",
      "0.5670372117709501\n",
      "Iteration No: 9 ended. Evaluation done at random point.\n",
      "Time taken: 1.2677\n",
      "Function value obtained: -0.1260\n",
      "Current minimum: -0.1555\n",
      "Iteration No: 10 started. Evaluating function at random point.\n",
      "[0.0012116790683302117, 3, 2, 0.06616307483844217, 0.23025600705315752, 677, 2, 5]\n",
      "0.5789644394645279\n",
      "Iteration No: 10 ended. Evaluation done at random point.\n",
      "Time taken: 0.7013\n",
      "Function value obtained: -0.1356\n",
      "Current minimum: -0.1555\n",
      "Iteration No: 11 started. Evaluating function at random point.\n",
      "[0.0053139776214487944, 6, 9, 0.14251441334450304, 0.8175761405215897, 297, 1, 5]\n",
      "0.5532081146429204\n",
      "Iteration No: 11 ended. Evaluation done at random point.\n",
      "Time taken: 0.3676\n",
      "Function value obtained: -0.1155\n",
      "Current minimum: -0.1555\n",
      "Iteration No: 12 started. Evaluating function at random point.\n",
      "[0.0068572961982704935, 10, 5, 0.2390386584472456, 0.49053406102209746, 176, 2, 4]\n",
      "0.5947986082443828\n",
      "Iteration No: 12 ended. Evaluation done at random point.\n",
      "Time taken: 0.4683\n",
      "Function value obtained: -0.1593\n",
      "Current minimum: -0.1593\n",
      "Iteration No: 13 started. Evaluating function at random point.\n",
      "[0.00781968225875022, 3, 4, 0.7078936710077383, 0.31818755505678337, 275, 4, 4]\n",
      "0.6085392463289496\n",
      "Iteration No: 13 ended. Evaluation done at random point.\n",
      "Time taken: 0.4502\n",
      "Function value obtained: -0.1478\n",
      "Current minimum: -0.1593\n",
      "Iteration No: 14 started. Evaluating function at random point.\n",
      "[0.017293945600511968, 2, 15, 0.9007557574888567, 0.41026441194439994, 316, 5, 1]\n",
      "0.5622014507283127\n",
      "Iteration No: 14 ended. Evaluation done at random point.\n",
      "Time taken: 0.1937\n",
      "Function value obtained: -0.1563\n",
      "Current minimum: -0.1593\n",
      "Iteration No: 15 started. Evaluating function at random point.\n",
      "[0.012250750764764855, 8, 6, 0.5976582413192033, 0.2474882432951916, 516, 4, 4]\n",
      "0.6094828094592204\n",
      "Iteration No: 15 ended. Evaluation done at random point.\n",
      "Time taken: 0.9227\n",
      "Function value obtained: -0.1570\n",
      "Current minimum: -0.1593\n",
      "Iteration No: 16 started. Evaluating function at random point.\n",
      "[0.018353598126553926, 4, 3, 0.47305622526323254, 0.1404164811277527, 133, 4, 1]\n",
      "0.6056495842424958\n",
      "Iteration No: 16 ended. Evaluation done at random point.\n",
      "Time taken: 0.1354\n",
      "Function value obtained: -0.1442\n",
      "Current minimum: -0.1593\n",
      "Iteration No: 17 started. Evaluating function at random point.\n",
      "[0.0010383234748454694, 9, 19, 0.9256771571832196, 0.9321438677645206, 312, 4, 3]\n",
      "0.5769741109866131\n",
      "Iteration No: 17 ended. Evaluation done at random point.\n",
      "Time taken: 0.6419\n",
      "Function value obtained: -0.1442\n",
      "Current minimum: -0.1593\n",
      "Iteration No: 18 started. Evaluating function at random point.\n",
      "[0.004955229758078229, 5, 5, 0.06939551310802591, 0.4193273080472823, 725, 4, 1]\n",
      "0.5457775549920386\n",
      "Iteration No: 18 ended. Evaluation done at random point.\n",
      "Time taken: 0.4259\n",
      "Function value obtained: -0.1091\n",
      "Current minimum: -0.1593\n",
      "Iteration No: 19 started. Evaluating function at random point.\n",
      "[0.0699516121742407, 9, 10, 0.6477856515609233, 0.8594430701440198, 616, 1, 1]\n",
      "0.5662558235536947\n",
      "Iteration No: 19 ended. Evaluation done at random point.\n",
      "Time taken: 1.0360\n",
      "Function value obtained: -0.1169\n",
      "Current minimum: -0.1593\n",
      "Iteration No: 20 started. Evaluating function at random point.\n",
      "[0.0014752743467850462, 5, 4, 0.9747950537021096, 0.982207187458162, 909, 2, 4]\n",
      "0.5634841068585246\n",
      "Iteration No: 20 ended. Evaluation done at random point.\n",
      "Time taken: 2.3901\n",
      "Function value obtained: -0.1357\n",
      "Current minimum: -0.1593\n",
      "Iteration No: 21 started. Searching for the next optimal point.\n",
      "[0.010039791164582725, 9, 11, 0.6596823900439108, 0.18671284566187135, 467, 4, 1]\n",
      "0.5734210060741877\n",
      "Iteration No: 21 ended. Search finished for the next optimal point.\n",
      "Time taken: 1.2625\n",
      "Function value obtained: -0.1295\n",
      "Current minimum: -0.1593\n",
      "Iteration No: 22 started. Searching for the next optimal point.\n",
      "[0.0027864871304710045, 10, 2, 0.07791079181091931, 0.43600928176626413, 321, 2, 4]\n",
      "0.5840066049419118\n",
      "Iteration No: 22 ended. Search finished for the next optimal point.\n",
      "Time taken: 1.5434\n",
      "Function value obtained: -0.1501\n",
      "Current minimum: -0.1593\n",
      "Iteration No: 23 started. Searching for the next optimal point.\n",
      "[0.06619381737473454, 10, 6, 0.44652512546757567, 0.41805106564623606, 182, 3, 4]\n",
      "0.5749248098130565\n",
      "Iteration No: 23 ended. Search finished for the next optimal point.\n",
      "Time taken: 1.1165\n",
      "Function value obtained: -0.1360\n",
      "Current minimum: -0.1593\n",
      "Iteration No: 24 started. Searching for the next optimal point.\n",
      "[0.005553759621868936, 8, 5, 0.28639722115326405, 0.5253328438063181, 545, 5, 4]\n",
      "0.5883263548976824\n",
      "Iteration No: 24 ended. Search finished for the next optimal point.\n",
      "Time taken: 1.3734\n",
      "Function value obtained: -0.1373\n",
      "Current minimum: -0.1593\n",
      "Iteration No: 25 started. Searching for the next optimal point.\n",
      "[0.03915771474743115, 10, 4, 0.8745284933940919, 0.609455271676343, 317, 2, 4]\n",
      "0.6329539423247036\n",
      "Iteration No: 25 ended. Search finished for the next optimal point.\n",
      "Time taken: 1.7917\n",
      "Function value obtained: -0.1732\n",
      "Current minimum: -0.1732\n",
      "Iteration No: 26 started. Searching for the next optimal point.\n",
      "[0.051594007805739604, 10, 7, 0.8482581530088819, 0.546993868790632, 271, 1, 5]\n",
      "0.5723742407265435\n",
      "Iteration No: 26 ended. Search finished for the next optimal point.\n",
      "Time taken: 1.4118\n",
      "Function value obtained: -0.1226\n",
      "Current minimum: -0.1732\n",
      "Iteration No: 27 started. Searching for the next optimal point.\n",
      "[0.06301493913876255, 9, 12, 0.8793393161309506, 0.5415154595335046, 354, 2, 4]\n",
      "0.6143185705018577\n",
      "Iteration No: 27 ended. Search finished for the next optimal point.\n",
      "Time taken: 1.7991\n",
      "Function value obtained: -0.1822\n",
      "Current minimum: -0.1822\n",
      "Iteration No: 28 started. Searching for the next optimal point.\n",
      "[0.025670207809790957, 9, 12, 0.9590961508588095, 0.08714971326599637, 345, 2, 4]\n",
      "0.6340449371940791\n",
      "Iteration No: 28 ended. Search finished for the next optimal point.\n",
      "Time taken: 1.3996\n",
      "Function value obtained: -0.1694\n",
      "Current minimum: -0.1822\n",
      "Iteration No: 29 started. Searching for the next optimal point.\n",
      "[0.08947810585132653, 10, 17, 0.8597011370253026, 0.19795847958523116, 418, 1, 4]\n",
      "0.5857462994633484\n",
      "Iteration No: 29 ended. Search finished for the next optimal point.\n",
      "Time taken: 1.5130\n",
      "Function value obtained: -0.1341\n",
      "Current minimum: -0.1822\n",
      "Iteration No: 30 started. Searching for the next optimal point.\n",
      "[0.057178386105103396, 10, 14, 0.8772743749758142, 0.5707545808135022, 213, 2, 4]\n",
      "0.6109276405024473\n",
      "Iteration No: 30 ended. Search finished for the next optimal point.\n",
      "Time taken: 1.0304\n",
      "Function value obtained: -0.1685\n",
      "Current minimum: -0.1822\n",
      "Iteration No: 31 started. Searching for the next optimal point.\n",
      "[0.08935049424620435, 10, 11, 0.9228414973696509, 0.4992991894823078, 115, 2, 5]\n",
      "0.6397947750191662\n",
      "Iteration No: 31 ended. Search finished for the next optimal point.\n",
      "Time taken: 1.0812\n",
      "Function value obtained: -0.1793\n",
      "Current minimum: -0.1822\n",
      "Iteration No: 32 started. Searching for the next optimal point.\n",
      "[0.09696964106847213, 9, 11, 0.8844839452157665, 0.15179031797507975, 522, 2, 4]\n",
      "0.6117237718936133\n",
      "Iteration No: 32 ended. Search finished for the next optimal point.\n",
      "Time taken: 1.9039\n",
      "Function value obtained: -0.1693\n",
      "Current minimum: -0.1822\n",
      "Iteration No: 33 started. Searching for the next optimal point.\n",
      "[0.06792396653884321, 9, 7, 0.9492958295647879, 0.26326143728995494, 548, 2, 2]\n",
      "0.6359910361502625\n",
      "Iteration No: 33 ended. Search finished for the next optimal point.\n",
      "Time taken: 1.6289\n",
      "Function value obtained: -0.1841\n",
      "Current minimum: -0.1841\n",
      "Iteration No: 34 started. Searching for the next optimal point.\n",
      "[0.06541663789826244, 9, 5, 0.9403090579268377, 0.2599634417141055, 649, 2, 4]\n",
      "0.636197440585009\n",
      "Iteration No: 34 ended. Search finished for the next optimal point.\n",
      "Time taken: 2.0090\n",
      "Function value obtained: -0.1739\n",
      "Current minimum: -0.1841\n",
      "Iteration No: 35 started. Searching for the next optimal point.\n",
      "[0.07739399592421241, 7, 4, 0.951939801117928, 0.7388973312601077, 459, 2, 1]\n",
      "0.6567494250162175\n",
      "Iteration No: 35 ended. Search finished for the next optimal point.\n",
      "Time taken: 1.3588\n",
      "Function value obtained: -0.1666\n",
      "Current minimum: -0.1841\n",
      "Iteration No: 36 started. Searching for the next optimal point.\n",
      "[0.03674104387174218, 9, 14, 0.9006417514600535, 0.1878246674936721, 937, 2, 1]\n",
      "0.5986760629828389\n",
      "Iteration No: 36 ended. Search finished for the next optimal point.\n",
      "Time taken: 1.7728\n",
      "Function value obtained: -0.1308\n",
      "Current minimum: -0.1841\n",
      "Iteration No: 37 started. Searching for the next optimal point.\n",
      "[0.06949429312990789, 8, 3, 0.9126835754696586, 0.28961086840957667, 747, 2, 5]\n",
      "0.6657132747537889\n",
      "Iteration No: 37 ended. Search finished for the next optimal point.\n",
      "Time taken: 2.4742\n",
      "Function value obtained: -0.2206\n",
      "Current minimum: -0.2206\n",
      "Iteration No: 38 started. Searching for the next optimal point.\n",
      "[0.06440926762537982, 6, 5, 0.9133600121086718, 0.46308936621869917, 851, 1, 5]\n",
      "0.554490770773132\n",
      "Iteration No: 38 ended. Search finished for the next optimal point.\n",
      "Time taken: 1.9461\n",
      "Function value obtained: -0.1148\n",
      "Current minimum: -0.2206\n",
      "Iteration No: 39 started. Searching for the next optimal point.\n",
      "[0.07638183016628648, 2, 3, 0.9956258846934342, 0.24672482296735465, 612, 2, 5]\n",
      "0.6581647697116235\n",
      "Iteration No: 39 ended. Search finished for the next optimal point.\n",
      "Time taken: 1.0221\n",
      "Function value obtained: -0.1876\n",
      "Current minimum: -0.2206\n",
      "Iteration No: 40 started. Searching for the next optimal point.\n",
      "[0.0894811429274582, 7, 1, 0.8563476470190547, 0.07065078561194435, 947, 2, 5]\n",
      "0.688683139706316\n",
      "Iteration No: 40 ended. Search finished for the next optimal point.\n",
      "Time taken: 2.5780\n",
      "Function value obtained: -0.1988\n",
      "Current minimum: -0.2206\n",
      "Iteration No: 41 started. Searching for the next optimal point.\n",
      "[0.07720974927372037, 6, 3, 0.9197621539898518, 0.6449917451643387, 964, 2, 5]\n",
      "0.6638261484932476\n",
      "Iteration No: 41 ended. Search finished for the next optimal point.\n",
      "Time taken: 2.3933\n",
      "Function value obtained: -0.1959\n",
      "Current minimum: -0.2206\n",
      "Iteration No: 42 started. Searching for the next optimal point.\n",
      "[0.075306870015126, 3, 1, 0.7757620213157056, 0.9417420093037455, 948, 2, 5]\n",
      "0.6387037801497907\n",
      "Iteration No: 42 ended. Search finished for the next optimal point.\n",
      "Time taken: 1.8538\n",
      "Function value obtained: -0.1834\n",
      "Current minimum: -0.2206\n",
      "Iteration No: 43 started. Searching for the next optimal point.\n",
      "[0.08265121231498246, 7, 1, 0.7251351011494334, 0.07547006552546137, 839, 2, 5]\n",
      "0.6883293035324645\n",
      "Iteration No: 43 ended. Search finished for the next optimal point.\n",
      "Time taken: 2.5485\n",
      "Function value obtained: -0.2378\n",
      "Current minimum: -0.2378\n",
      "Iteration No: 44 started. Searching for the next optimal point.\n",
      "[0.09833170318391853, 1, 1, 0.754182980619871, 0.08605352068337667, 870, 3, 5]\n",
      "0.6422863714100371\n",
      "Iteration No: 44 ended. Search finished for the next optimal point.\n",
      "Time taken: 1.0658\n",
      "Function value obtained: -0.1818\n",
      "Current minimum: -0.2378\n",
      "Iteration No: 45 started. Searching for the next optimal point.\n",
      "[0.07989873876843957, 8, 1, 0.07404579732974367, 0.15481933223031255, 980, 2, 5]\n",
      "0.6272630771952585\n",
      "Iteration No: 45 ended. Search finished for the next optimal point.\n",
      "Time taken: 2.0181\n",
      "Function value obtained: -0.1577\n",
      "Current minimum: -0.2378\n",
      "Iteration No: 46 started. Searching for the next optimal point.\n",
      "[0.0410589708939533, 9, 2, 0.9405453517375768, 0.1321498356955883, 911, 2, 5]\n",
      "0.6750014743173911\n",
      "Iteration No: 46 ended. Search finished for the next optimal point.\n",
      "Time taken: 3.6913\n",
      "Function value obtained: -0.1792\n",
      "Current minimum: -0.2378\n",
      "Iteration No: 47 started. Searching for the next optimal point.\n",
      "[0.075934313018497, 8, 2, 0.9363697345353915, 0.15129274897268502, 765, 1, 5]\n",
      "0.59317685911423\n",
      "Iteration No: 47 ended. Search finished for the next optimal point.\n",
      "Time taken: 2.7260\n",
      "Function value obtained: -0.1513\n",
      "Current minimum: -0.2378\n",
      "Iteration No: 48 started. Searching for the next optimal point.\n",
      "[0.06655785316110756, 7, 1, 0.7589453100795996, 0.21159340705674562, 770, 2, 1]\n",
      "0.6480214660612137\n",
      "Iteration No: 48 ended. Search finished for the next optimal point.\n",
      "Time taken: 3.3117\n",
      "Function value obtained: -0.1582\n",
      "Current minimum: -0.2378\n",
      "Iteration No: 49 started. Searching for the next optimal point.\n",
      "[0.06892466655245144, 7, 5, 0.8261588403741187, 0.07729616979076112, 853, 2, 5]\n",
      "0.6603467594503744\n",
      "Iteration No: 49 ended. Search finished for the next optimal point.\n",
      "Time taken: 2.1621\n",
      "Function value obtained: -0.1719\n",
      "Current minimum: -0.2378\n",
      "Iteration No: 50 started. Searching for the next optimal point.\n",
      "[0.06602730762014003, 10, 2, 0.6724229168392452, 0.07445872598097698, 855, 2, 5]\n",
      "0.6782449725776964\n",
      "Iteration No: 50 ended. Search finished for the next optimal point.\n",
      "Time taken: 4.7035\n",
      "Function value obtained: -0.2132\n",
      "Current minimum: -0.2378\n"
     ]
    }
   ],
   "source": [
    "space = [(1e-3, 1e-1, 'log-uniform'), # lr\n",
    "          (1, 10), # max_depth\n",
    "          (1, 20), # min_child_samples\n",
    "          (0.05, 1.), # subsample\n",
    "          (0.05, 1.), # colsample_bytree\n",
    "          (100,1000), # n_estimators\n",
    "          (1,5), # min_df\n",
    "          (1,5)] # ngram_range\n",
    "\n",
    "res = forest_minimize(tune_lgbm, space, random_state=160745, n_random_starts=20, n_calls=50, verbose=1)"
   ]
  },
  {
   "cell_type": "code",
   "execution_count": 79,
   "metadata": {},
   "outputs": [
    {
     "data": {
      "text/plain": [
       "[0.08265121231498246, 7, 1, 0.7251351011494334, 0.07547006552546137, 839, 2, 5]"
      ]
     },
     "execution_count": 79,
     "metadata": {},
     "output_type": "execute_result"
    }
   ],
   "source": [
    "res.x"
   ]
  },
  {
   "cell_type": "markdown",
   "metadata": {},
   "source": [
    "### LGBM \n",
    "**AP = 0.2378, AUC = 0.6883293035324645**\n",
    "\n",
    "Parameters:\n",
    "[0.08265121231498246, 7, 1, 0.7251351011494334, 0.07547006552546137, 839, 2, 5]"
   ]
  },
  {
   "cell_type": "markdown",
   "metadata": {},
   "source": [
    "## Logistic Reg"
   ]
  },
  {
   "cell_type": "code",
   "execution_count": 80,
   "metadata": {},
   "outputs": [],
   "source": [
    "from sklearn.preprocessing import MaxAbsScaler, StandardScaler\n",
    "from scipy.sparse import csr_matrix"
   ]
  },
  {
   "cell_type": "code",
   "execution_count": 130,
   "metadata": {},
   "outputs": [],
   "source": [
    "Xtrain_wtitle2 = csr_matrix(Xtrain_wtitle.copy())\n",
    "Xval_wtitle2 = csr_matrix(Xval_wtitle.copy())\n",
    "\n",
    "#scaler = StandardScaler()\n",
    "scaler = MaxAbsScaler()\n",
    "\n",
    "#Xtrain_wtitle2[:,:2] = scaler.fit_transform(Xtrain_wtitle2[:,:2].todense())\n",
    "#Xval_wtitle2[:,:2] = scaler.transform(Xval_wtitle2[:,:2].todense())\n",
    "\n",
    "Xtrain_wtitle2 = scaler.fit_transform(Xtrain_wtitle2)\n",
    "Xval_wtitle2 = scaler.transform(Xval_wtitle2)"
   ]
  },
  {
   "cell_type": "code",
   "execution_count": 131,
   "metadata": {},
   "outputs": [
    {
     "data": {
      "text/plain": [
       "(609, 1146)"
      ]
     },
     "execution_count": 131,
     "metadata": {},
     "output_type": "execute_result"
    }
   ],
   "source": [
    "Xval_wtitle2.shape"
   ]
  },
  {
   "cell_type": "code",
   "execution_count": 183,
   "metadata": {},
   "outputs": [
    {
     "data": {
      "text/plain": [
       "LogisticRegression(C=0.051, class_weight=None, dual=False, fit_intercept=True,\n",
       "                   intercept_scaling=1, l1_ratio=None, max_iter=100,\n",
       "                   multi_class='warn', n_jobs=6, penalty='l2', random_state=0,\n",
       "                   solver='warn', tol=0.0001, verbose=0, warm_start=False)"
      ]
     },
     "execution_count": 183,
     "metadata": {},
     "output_type": "execute_result"
    }
   ],
   "source": [
    "mdl = LogisticRegression(n_jobs=6, random_state=0, C=.051)\n",
    "mdl.fit(Xtrain_wtitle2, ytrain)"
   ]
  },
  {
   "cell_type": "code",
   "execution_count": 184,
   "metadata": {},
   "outputs": [],
   "source": [
    "p = mdl.predict_proba(Xval_wtitle2)[:,1]"
   ]
  },
  {
   "cell_type": "code",
   "execution_count": 185,
   "metadata": {},
   "outputs": [
    {
     "data": {
      "text/plain": [
       "(0.22366713615797784, 0.6566314796249337)"
      ]
     },
     "execution_count": 185,
     "metadata": {},
     "output_type": "execute_result"
    }
   ],
   "source": [
    "average_precision_score(yval,p), roc_auc_score(yval,p)"
   ]
  },
  {
   "cell_type": "markdown",
   "metadata": {},
   "source": [
    "## Results:\n",
    "\n",
    "Logistic Regression - StandardScaler - Without tunning  \n",
    "ap/auc = (0.20905963592265248, 0.6619095358848853)\n",
    "\n",
    "Logistic Regression - MaxAbsScaler - Without tunning  \n",
    "ap/auc = (0.20635826806997412, 0.6864716636197441)\n",
    "\n",
    "Logistic Regression - MaxAbsScaler - C = .051  \n",
    "ap/auc = (0.22366713615797784, 0.6566314796249337)"
   ]
  },
  {
   "cell_type": "code",
   "execution_count": null,
   "metadata": {},
   "outputs": [],
   "source": []
  }
 ],
 "metadata": {
  "kernelspec": {
   "display_name": "Python 3",
   "language": "python",
   "name": "python3"
  },
  "language_info": {
   "codemirror_mode": {
    "name": "ipython",
    "version": 3
   },
   "file_extension": ".py",
   "mimetype": "text/x-python",
   "name": "python",
   "nbconvert_exporter": "python",
   "pygments_lexer": "ipython3",
   "version": "3.7.4"
  }
 },
 "nbformat": 4,
 "nbformat_minor": 4
}
